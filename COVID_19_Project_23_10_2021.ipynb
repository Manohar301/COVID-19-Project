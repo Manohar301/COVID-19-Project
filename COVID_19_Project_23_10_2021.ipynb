{
  "nbformat": 4,
  "nbformat_minor": 5,
  "metadata": {
    "kernelspec": {
      "display_name": "Python 3",
      "language": "python",
      "name": "python3"
    },
    "language_info": {
      "codemirror_mode": {
        "name": "ipython",
        "version": 3
      },
      "file_extension": ".py",
      "mimetype": "text/x-python",
      "name": "python",
      "nbconvert_exporter": "python",
      "pygments_lexer": "ipython3",
      "version": "3.8.8"
    },
    "colab": {
      "provenance": []
    }
  },
  "cells": [
    {
      "cell_type": "code",
      "metadata": {
        "id": "1f6122e9",
        "outputId": "81767474-3136-4873-9057-e026960a0bd1"
      },
      "source": [
        "#plotly------>interactive graphs\n",
        "! pip install plotly\n"
      ],
      "id": "1f6122e9",
      "execution_count": null,
      "outputs": [
        {
          "name": "stdout",
          "output_type": "stream",
          "text": [
            "Requirement already satisfied: plotly in c:\\users\\admin\\anaconda3\\lib\\site-packages (5.3.1)\n",
            "Requirement already satisfied: six in c:\\users\\admin\\anaconda3\\lib\\site-packages (from plotly) (1.15.0)\n",
            "Requirement already satisfied: tenacity>=6.2.0 in c:\\users\\admin\\anaconda3\\lib\\site-packages (from plotly) (8.0.1)\n"
          ]
        }
      ]
    },
    {
      "cell_type": "raw",
      "metadata": {
        "id": "2c30ba2a"
      },
      "source": [
        "1.world\n",
        "2.4 contries\n",
        "3.India---->states\n",
        "4.per day cases\n",
        "5. confirmed, death and recovered cases------>trend"
      ],
      "id": "2c30ba2a"
    },
    {
      "cell_type": "raw",
      "metadata": {
        "id": "dd956100"
      },
      "source": [
        "1.importing dataset\n",
        "2.renaming(optional)\n",
        "3.active\n",
        "4.confirmed, recovered,death\n",
        "5.visualization\n"
      ],
      "id": "dd956100"
    },
    {
      "cell_type": "code",
      "metadata": {
        "id": "bfa1dba7"
      },
      "source": [
        "import pandas as pd\n",
        "import matplotlib.pyplot as plt\n",
        "import seaborn as sns\n",
        "import plotly\n",
        "import plotly.express as px\n",
        "import plotly.graph_objects as go\n",
        "\n"
      ],
      "id": "bfa1dba7",
      "execution_count": null,
      "outputs": []
    },
    {
      "cell_type": "raw",
      "metadata": {
        "id": "03d894dd"
      },
      "source": [
        "matplotlib.pyplot---->basic visualization\n",
        "seaborn-------------->advanced visualization\n",
        "plotly--------------->interactive graph\n",
        "express-------------->highly interactive graph\n",
        "plotly.graph_objects->"
      ],
      "id": "03d894dd"
    },
    {
      "cell_type": "code",
      "metadata": {
        "id": "8778be6e"
      },
      "source": [
        "import warnings\n",
        "warnings.filterwarnings('ignore')"
      ],
      "id": "8778be6e",
      "execution_count": null,
      "outputs": []
    },
    {
      "cell_type": "code",
      "metadata": {
        "id": "9d795b0e"
      },
      "source": [
        "%matplotlib inline\n",
        "#we can open graph in diff window"
      ],
      "id": "9d795b0e",
      "execution_count": null,
      "outputs": []
    },
    {
      "cell_type": "raw",
      "metadata": {
        "id": "6b1b8cea"
      },
      "source": [
        "1.importing dataset\n",
        "2.renaming(optional)\n",
        "3.active\n",
        "4.confirmed, recovered,death\n",
        "5.visualization"
      ],
      "id": "6b1b8cea"
    },
    {
      "cell_type": "code",
      "metadata": {
        "id": "5c19a3a9"
      },
      "source": [
        "#pd.read_csv(\"filename.csv\")\n",
        "#pd.read_csv(\"path\")"
      ],
      "id": "5c19a3a9",
      "execution_count": null,
      "outputs": []
    },
    {
      "cell_type": "code",
      "metadata": {
        "id": "342bed5b",
        "outputId": "f2d66ef9-3bd6-4691-c651-0eebb41864af"
      },
      "source": [
        "df=pd.read_csv(\"covid_19_clean_complete.csv\",parse_dates=[\"Date\"])\n",
        "#we are concentrating on date column---->important column\n",
        "df.head()"
      ],
      "id": "342bed5b",
      "execution_count": null,
      "outputs": [
        {
          "data": {
            "text/html": [
              "<div>\n",
              "<style scoped>\n",
              "    .dataframe tbody tr th:only-of-type {\n",
              "        vertical-align: middle;\n",
              "    }\n",
              "\n",
              "    .dataframe tbody tr th {\n",
              "        vertical-align: top;\n",
              "    }\n",
              "\n",
              "    .dataframe thead th {\n",
              "        text-align: right;\n",
              "    }\n",
              "</style>\n",
              "<table border=\"1\" class=\"dataframe\">\n",
              "  <thead>\n",
              "    <tr style=\"text-align: right;\">\n",
              "      <th></th>\n",
              "      <th>Province/State</th>\n",
              "      <th>Country/Region</th>\n",
              "      <th>Lat</th>\n",
              "      <th>Long</th>\n",
              "      <th>Date</th>\n",
              "      <th>Confirmed</th>\n",
              "      <th>Deaths</th>\n",
              "      <th>Recovered</th>\n",
              "    </tr>\n",
              "  </thead>\n",
              "  <tbody>\n",
              "    <tr>\n",
              "      <th>0</th>\n",
              "      <td>NaN</td>\n",
              "      <td>Thailand</td>\n",
              "      <td>15.0000</td>\n",
              "      <td>101.0000</td>\n",
              "      <td>2020-01-22</td>\n",
              "      <td>2.0</td>\n",
              "      <td>0.0</td>\n",
              "      <td>0.0</td>\n",
              "    </tr>\n",
              "    <tr>\n",
              "      <th>1</th>\n",
              "      <td>NaN</td>\n",
              "      <td>Japan</td>\n",
              "      <td>36.0000</td>\n",
              "      <td>138.0000</td>\n",
              "      <td>2020-01-22</td>\n",
              "      <td>2.0</td>\n",
              "      <td>0.0</td>\n",
              "      <td>0.0</td>\n",
              "    </tr>\n",
              "    <tr>\n",
              "      <th>2</th>\n",
              "      <td>NaN</td>\n",
              "      <td>Singapore</td>\n",
              "      <td>1.2833</td>\n",
              "      <td>103.8333</td>\n",
              "      <td>2020-01-22</td>\n",
              "      <td>0.0</td>\n",
              "      <td>0.0</td>\n",
              "      <td>0.0</td>\n",
              "    </tr>\n",
              "    <tr>\n",
              "      <th>3</th>\n",
              "      <td>NaN</td>\n",
              "      <td>Nepal</td>\n",
              "      <td>28.1667</td>\n",
              "      <td>84.2500</td>\n",
              "      <td>2020-01-22</td>\n",
              "      <td>0.0</td>\n",
              "      <td>0.0</td>\n",
              "      <td>0.0</td>\n",
              "    </tr>\n",
              "    <tr>\n",
              "      <th>4</th>\n",
              "      <td>NaN</td>\n",
              "      <td>Malaysia</td>\n",
              "      <td>2.5000</td>\n",
              "      <td>112.5000</td>\n",
              "      <td>2020-01-22</td>\n",
              "      <td>0.0</td>\n",
              "      <td>0.0</td>\n",
              "      <td>0.0</td>\n",
              "    </tr>\n",
              "  </tbody>\n",
              "</table>\n",
              "</div>"
            ],
            "text/plain": [
              "  Province/State Country/Region      Lat      Long       Date  Confirmed  \\\n",
              "0            NaN       Thailand  15.0000  101.0000 2020-01-22        2.0   \n",
              "1            NaN          Japan  36.0000  138.0000 2020-01-22        2.0   \n",
              "2            NaN      Singapore   1.2833  103.8333 2020-01-22        0.0   \n",
              "3            NaN          Nepal  28.1667   84.2500 2020-01-22        0.0   \n",
              "4            NaN       Malaysia   2.5000  112.5000 2020-01-22        0.0   \n",
              "\n",
              "   Deaths  Recovered  \n",
              "0     0.0        0.0  \n",
              "1     0.0        0.0  \n",
              "2     0.0        0.0  \n",
              "3     0.0        0.0  \n",
              "4     0.0        0.0  "
            ]
          },
          "execution_count": 8,
          "metadata": {},
          "output_type": "execute_result"
        }
      ]
    },
    {
      "cell_type": "code",
      "metadata": {
        "id": "ea5767f7"
      },
      "source": [
        "#rename()---->pandas\n",
        "df.rename(columns={'Date':'date',\n",
        "                  'Province/State':'state',\n",
        "                  'Country/Region':'country',\n",
        "                  'Lat':'lat',\n",
        "                  'Long\t':'long',\n",
        "                  'Confirmed':'confirmed',\n",
        "                  'Deaths':'deaths',\n",
        "                  'Recovered':'recovered'},\n",
        "         inplace=True)"
      ],
      "id": "ea5767f7",
      "execution_count": null,
      "outputs": []
    },
    {
      "cell_type": "code",
      "metadata": {
        "id": "3b0001bd",
        "outputId": "4473913d-7115-41aa-af8b-1c081a83efca"
      },
      "source": [
        "df.head()"
      ],
      "id": "3b0001bd",
      "execution_count": null,
      "outputs": [
        {
          "data": {
            "text/html": [
              "<div>\n",
              "<style scoped>\n",
              "    .dataframe tbody tr th:only-of-type {\n",
              "        vertical-align: middle;\n",
              "    }\n",
              "\n",
              "    .dataframe tbody tr th {\n",
              "        vertical-align: top;\n",
              "    }\n",
              "\n",
              "    .dataframe thead th {\n",
              "        text-align: right;\n",
              "    }\n",
              "</style>\n",
              "<table border=\"1\" class=\"dataframe\">\n",
              "  <thead>\n",
              "    <tr style=\"text-align: right;\">\n",
              "      <th></th>\n",
              "      <th>state</th>\n",
              "      <th>country</th>\n",
              "      <th>lat</th>\n",
              "      <th>Long</th>\n",
              "      <th>date</th>\n",
              "      <th>confirmed</th>\n",
              "      <th>deaths</th>\n",
              "      <th>recovered</th>\n",
              "    </tr>\n",
              "  </thead>\n",
              "  <tbody>\n",
              "    <tr>\n",
              "      <th>0</th>\n",
              "      <td>NaN</td>\n",
              "      <td>Thailand</td>\n",
              "      <td>15.0000</td>\n",
              "      <td>101.0000</td>\n",
              "      <td>2020-01-22</td>\n",
              "      <td>2.0</td>\n",
              "      <td>0.0</td>\n",
              "      <td>0.0</td>\n",
              "    </tr>\n",
              "    <tr>\n",
              "      <th>1</th>\n",
              "      <td>NaN</td>\n",
              "      <td>Japan</td>\n",
              "      <td>36.0000</td>\n",
              "      <td>138.0000</td>\n",
              "      <td>2020-01-22</td>\n",
              "      <td>2.0</td>\n",
              "      <td>0.0</td>\n",
              "      <td>0.0</td>\n",
              "    </tr>\n",
              "    <tr>\n",
              "      <th>2</th>\n",
              "      <td>NaN</td>\n",
              "      <td>Singapore</td>\n",
              "      <td>1.2833</td>\n",
              "      <td>103.8333</td>\n",
              "      <td>2020-01-22</td>\n",
              "      <td>0.0</td>\n",
              "      <td>0.0</td>\n",
              "      <td>0.0</td>\n",
              "    </tr>\n",
              "    <tr>\n",
              "      <th>3</th>\n",
              "      <td>NaN</td>\n",
              "      <td>Nepal</td>\n",
              "      <td>28.1667</td>\n",
              "      <td>84.2500</td>\n",
              "      <td>2020-01-22</td>\n",
              "      <td>0.0</td>\n",
              "      <td>0.0</td>\n",
              "      <td>0.0</td>\n",
              "    </tr>\n",
              "    <tr>\n",
              "      <th>4</th>\n",
              "      <td>NaN</td>\n",
              "      <td>Malaysia</td>\n",
              "      <td>2.5000</td>\n",
              "      <td>112.5000</td>\n",
              "      <td>2020-01-22</td>\n",
              "      <td>0.0</td>\n",
              "      <td>0.0</td>\n",
              "      <td>0.0</td>\n",
              "    </tr>\n",
              "  </tbody>\n",
              "</table>\n",
              "</div>"
            ],
            "text/plain": [
              "  state    country      lat      Long       date  confirmed  deaths  recovered\n",
              "0   NaN   Thailand  15.0000  101.0000 2020-01-22        2.0     0.0        0.0\n",
              "1   NaN      Japan  36.0000  138.0000 2020-01-22        2.0     0.0        0.0\n",
              "2   NaN  Singapore   1.2833  103.8333 2020-01-22        0.0     0.0        0.0\n",
              "3   NaN      Nepal  28.1667   84.2500 2020-01-22        0.0     0.0        0.0\n",
              "4   NaN   Malaysia   2.5000  112.5000 2020-01-22        0.0     0.0        0.0"
            ]
          },
          "execution_count": 10,
          "metadata": {},
          "output_type": "execute_result"
        }
      ]
    },
    {
      "cell_type": "code",
      "metadata": {
        "id": "e4526086"
      },
      "source": [
        "#active cases\n",
        "#active=confirmed-deaths-recovered\n",
        "#10-2-2\n",
        "#6----->active cases for the day\n",
        "df['active']=df['confirmed']-df['deaths']-df['recovered']"
      ],
      "id": "e4526086",
      "execution_count": null,
      "outputs": []
    },
    {
      "cell_type": "code",
      "metadata": {
        "id": "3b1b3f3f",
        "outputId": "4697ac05-3f5b-4e3a-e2d5-7a67b4430d01"
      },
      "source": [
        "df.head()"
      ],
      "id": "3b1b3f3f",
      "execution_count": null,
      "outputs": [
        {
          "data": {
            "text/html": [
              "<div>\n",
              "<style scoped>\n",
              "    .dataframe tbody tr th:only-of-type {\n",
              "        vertical-align: middle;\n",
              "    }\n",
              "\n",
              "    .dataframe tbody tr th {\n",
              "        vertical-align: top;\n",
              "    }\n",
              "\n",
              "    .dataframe thead th {\n",
              "        text-align: right;\n",
              "    }\n",
              "</style>\n",
              "<table border=\"1\" class=\"dataframe\">\n",
              "  <thead>\n",
              "    <tr style=\"text-align: right;\">\n",
              "      <th></th>\n",
              "      <th>state</th>\n",
              "      <th>country</th>\n",
              "      <th>lat</th>\n",
              "      <th>Long</th>\n",
              "      <th>date</th>\n",
              "      <th>confirmed</th>\n",
              "      <th>deaths</th>\n",
              "      <th>recovered</th>\n",
              "      <th>active</th>\n",
              "    </tr>\n",
              "  </thead>\n",
              "  <tbody>\n",
              "    <tr>\n",
              "      <th>0</th>\n",
              "      <td>NaN</td>\n",
              "      <td>Thailand</td>\n",
              "      <td>15.0000</td>\n",
              "      <td>101.0000</td>\n",
              "      <td>2020-01-22</td>\n",
              "      <td>2.0</td>\n",
              "      <td>0.0</td>\n",
              "      <td>0.0</td>\n",
              "      <td>2.0</td>\n",
              "    </tr>\n",
              "    <tr>\n",
              "      <th>1</th>\n",
              "      <td>NaN</td>\n",
              "      <td>Japan</td>\n",
              "      <td>36.0000</td>\n",
              "      <td>138.0000</td>\n",
              "      <td>2020-01-22</td>\n",
              "      <td>2.0</td>\n",
              "      <td>0.0</td>\n",
              "      <td>0.0</td>\n",
              "      <td>2.0</td>\n",
              "    </tr>\n",
              "    <tr>\n",
              "      <th>2</th>\n",
              "      <td>NaN</td>\n",
              "      <td>Singapore</td>\n",
              "      <td>1.2833</td>\n",
              "      <td>103.8333</td>\n",
              "      <td>2020-01-22</td>\n",
              "      <td>0.0</td>\n",
              "      <td>0.0</td>\n",
              "      <td>0.0</td>\n",
              "      <td>0.0</td>\n",
              "    </tr>\n",
              "    <tr>\n",
              "      <th>3</th>\n",
              "      <td>NaN</td>\n",
              "      <td>Nepal</td>\n",
              "      <td>28.1667</td>\n",
              "      <td>84.2500</td>\n",
              "      <td>2020-01-22</td>\n",
              "      <td>0.0</td>\n",
              "      <td>0.0</td>\n",
              "      <td>0.0</td>\n",
              "      <td>0.0</td>\n",
              "    </tr>\n",
              "    <tr>\n",
              "      <th>4</th>\n",
              "      <td>NaN</td>\n",
              "      <td>Malaysia</td>\n",
              "      <td>2.5000</td>\n",
              "      <td>112.5000</td>\n",
              "      <td>2020-01-22</td>\n",
              "      <td>0.0</td>\n",
              "      <td>0.0</td>\n",
              "      <td>0.0</td>\n",
              "      <td>0.0</td>\n",
              "    </tr>\n",
              "  </tbody>\n",
              "</table>\n",
              "</div>"
            ],
            "text/plain": [
              "  state    country      lat      Long       date  confirmed  deaths  \\\n",
              "0   NaN   Thailand  15.0000  101.0000 2020-01-22        2.0     0.0   \n",
              "1   NaN      Japan  36.0000  138.0000 2020-01-22        2.0     0.0   \n",
              "2   NaN  Singapore   1.2833  103.8333 2020-01-22        0.0     0.0   \n",
              "3   NaN      Nepal  28.1667   84.2500 2020-01-22        0.0     0.0   \n",
              "4   NaN   Malaysia   2.5000  112.5000 2020-01-22        0.0     0.0   \n",
              "\n",
              "   recovered  active  \n",
              "0        0.0     2.0  \n",
              "1        0.0     2.0  \n",
              "2        0.0     0.0  \n",
              "3        0.0     0.0  \n",
              "4        0.0     0.0  "
            ]
          },
          "execution_count": 12,
          "metadata": {},
          "output_type": "execute_result"
        }
      ]
    },
    {
      "cell_type": "code",
      "metadata": {
        "id": "b3f3559c",
        "outputId": "c238445c-7b44-476c-a950-0db291a82c45"
      },
      "source": [
        "df.tail()"
      ],
      "id": "b3f3559c",
      "execution_count": null,
      "outputs": [
        {
          "data": {
            "text/html": [
              "<div>\n",
              "<style scoped>\n",
              "    .dataframe tbody tr th:only-of-type {\n",
              "        vertical-align: middle;\n",
              "    }\n",
              "\n",
              "    .dataframe tbody tr th {\n",
              "        vertical-align: top;\n",
              "    }\n",
              "\n",
              "    .dataframe thead th {\n",
              "        text-align: right;\n",
              "    }\n",
              "</style>\n",
              "<table border=\"1\" class=\"dataframe\">\n",
              "  <thead>\n",
              "    <tr style=\"text-align: right;\">\n",
              "      <th></th>\n",
              "      <th>state</th>\n",
              "      <th>country</th>\n",
              "      <th>lat</th>\n",
              "      <th>Long</th>\n",
              "      <th>date</th>\n",
              "      <th>confirmed</th>\n",
              "      <th>deaths</th>\n",
              "      <th>recovered</th>\n",
              "      <th>active</th>\n",
              "    </tr>\n",
              "  </thead>\n",
              "  <tbody>\n",
              "    <tr>\n",
              "      <th>19215</th>\n",
              "      <td>NaN</td>\n",
              "      <td>Jersey</td>\n",
              "      <td>49.1900</td>\n",
              "      <td>-2.110</td>\n",
              "      <td>2020-03-23</td>\n",
              "      <td>0.0</td>\n",
              "      <td>0.0</td>\n",
              "      <td>0.0</td>\n",
              "      <td>0.0</td>\n",
              "    </tr>\n",
              "    <tr>\n",
              "      <th>19216</th>\n",
              "      <td>NaN</td>\n",
              "      <td>Puerto Rico</td>\n",
              "      <td>18.2000</td>\n",
              "      <td>-66.500</td>\n",
              "      <td>2020-03-23</td>\n",
              "      <td>0.0</td>\n",
              "      <td>1.0</td>\n",
              "      <td>0.0</td>\n",
              "      <td>-1.0</td>\n",
              "    </tr>\n",
              "    <tr>\n",
              "      <th>19217</th>\n",
              "      <td>NaN</td>\n",
              "      <td>Republic of the Congo</td>\n",
              "      <td>-1.4400</td>\n",
              "      <td>15.556</td>\n",
              "      <td>2020-03-23</td>\n",
              "      <td>0.0</td>\n",
              "      <td>0.0</td>\n",
              "      <td>0.0</td>\n",
              "      <td>0.0</td>\n",
              "    </tr>\n",
              "    <tr>\n",
              "      <th>19218</th>\n",
              "      <td>NaN</td>\n",
              "      <td>The Bahamas</td>\n",
              "      <td>24.2500</td>\n",
              "      <td>-76.000</td>\n",
              "      <td>2020-03-23</td>\n",
              "      <td>0.0</td>\n",
              "      <td>0.0</td>\n",
              "      <td>0.0</td>\n",
              "      <td>0.0</td>\n",
              "    </tr>\n",
              "    <tr>\n",
              "      <th>19219</th>\n",
              "      <td>NaN</td>\n",
              "      <td>The Gambia</td>\n",
              "      <td>13.4667</td>\n",
              "      <td>-16.600</td>\n",
              "      <td>2020-03-23</td>\n",
              "      <td>0.0</td>\n",
              "      <td>0.0</td>\n",
              "      <td>0.0</td>\n",
              "      <td>0.0</td>\n",
              "    </tr>\n",
              "  </tbody>\n",
              "</table>\n",
              "</div>"
            ],
            "text/plain": [
              "      state                country      lat    Long       date  confirmed  \\\n",
              "19215   NaN                 Jersey  49.1900  -2.110 2020-03-23        0.0   \n",
              "19216   NaN            Puerto Rico  18.2000 -66.500 2020-03-23        0.0   \n",
              "19217   NaN  Republic of the Congo  -1.4400  15.556 2020-03-23        0.0   \n",
              "19218   NaN            The Bahamas  24.2500 -76.000 2020-03-23        0.0   \n",
              "19219   NaN             The Gambia  13.4667 -16.600 2020-03-23        0.0   \n",
              "\n",
              "       deaths  recovered  active  \n",
              "19215     0.0        0.0     0.0  \n",
              "19216     1.0        0.0    -1.0  \n",
              "19217     0.0        0.0     0.0  \n",
              "19218     0.0        0.0     0.0  \n",
              "19219     0.0        0.0     0.0  "
            ]
          },
          "execution_count": 13,
          "metadata": {},
          "output_type": "execute_result"
        }
      ]
    },
    {
      "cell_type": "code",
      "metadata": {
        "id": "a8ea338d",
        "outputId": "6ff1928f-07f5-4f38-f9a7-a3d9196bec4c"
      },
      "source": [
        "top= df[df['date']==df['date'].max()]\n",
        "top.head()"
      ],
      "id": "a8ea338d",
      "execution_count": null,
      "outputs": [
        {
          "data": {
            "text/html": [
              "<div>\n",
              "<style scoped>\n",
              "    .dataframe tbody tr th:only-of-type {\n",
              "        vertical-align: middle;\n",
              "    }\n",
              "\n",
              "    .dataframe tbody tr th {\n",
              "        vertical-align: top;\n",
              "    }\n",
              "\n",
              "    .dataframe thead th {\n",
              "        text-align: right;\n",
              "    }\n",
              "</style>\n",
              "<table border=\"1\" class=\"dataframe\">\n",
              "  <thead>\n",
              "    <tr style=\"text-align: right;\">\n",
              "      <th></th>\n",
              "      <th>state</th>\n",
              "      <th>country</th>\n",
              "      <th>lat</th>\n",
              "      <th>Long</th>\n",
              "      <th>date</th>\n",
              "      <th>confirmed</th>\n",
              "      <th>deaths</th>\n",
              "      <th>recovered</th>\n",
              "      <th>active</th>\n",
              "    </tr>\n",
              "  </thead>\n",
              "  <tbody>\n",
              "    <tr>\n",
              "      <th>18910</th>\n",
              "      <td>NaN</td>\n",
              "      <td>Thailand</td>\n",
              "      <td>15.0000</td>\n",
              "      <td>101.0000</td>\n",
              "      <td>2020-03-23</td>\n",
              "      <td>599.0</td>\n",
              "      <td>1.0</td>\n",
              "      <td>44.0</td>\n",
              "      <td>554.0</td>\n",
              "    </tr>\n",
              "    <tr>\n",
              "      <th>18911</th>\n",
              "      <td>NaN</td>\n",
              "      <td>Japan</td>\n",
              "      <td>36.0000</td>\n",
              "      <td>138.0000</td>\n",
              "      <td>2020-03-23</td>\n",
              "      <td>1086.0</td>\n",
              "      <td>40.0</td>\n",
              "      <td>235.0</td>\n",
              "      <td>811.0</td>\n",
              "    </tr>\n",
              "    <tr>\n",
              "      <th>18912</th>\n",
              "      <td>NaN</td>\n",
              "      <td>Singapore</td>\n",
              "      <td>1.2833</td>\n",
              "      <td>103.8333</td>\n",
              "      <td>2020-03-23</td>\n",
              "      <td>455.0</td>\n",
              "      <td>2.0</td>\n",
              "      <td>144.0</td>\n",
              "      <td>309.0</td>\n",
              "    </tr>\n",
              "    <tr>\n",
              "      <th>18913</th>\n",
              "      <td>NaN</td>\n",
              "      <td>Nepal</td>\n",
              "      <td>28.1667</td>\n",
              "      <td>84.2500</td>\n",
              "      <td>2020-03-23</td>\n",
              "      <td>2.0</td>\n",
              "      <td>0.0</td>\n",
              "      <td>1.0</td>\n",
              "      <td>1.0</td>\n",
              "    </tr>\n",
              "    <tr>\n",
              "      <th>18914</th>\n",
              "      <td>NaN</td>\n",
              "      <td>Malaysia</td>\n",
              "      <td>2.5000</td>\n",
              "      <td>112.5000</td>\n",
              "      <td>2020-03-23</td>\n",
              "      <td>1306.0</td>\n",
              "      <td>10.0</td>\n",
              "      <td>139.0</td>\n",
              "      <td>1157.0</td>\n",
              "    </tr>\n",
              "  </tbody>\n",
              "</table>\n",
              "</div>"
            ],
            "text/plain": [
              "      state    country      lat      Long       date  confirmed  deaths  \\\n",
              "18910   NaN   Thailand  15.0000  101.0000 2020-03-23      599.0     1.0   \n",
              "18911   NaN      Japan  36.0000  138.0000 2020-03-23     1086.0    40.0   \n",
              "18912   NaN  Singapore   1.2833  103.8333 2020-03-23      455.0     2.0   \n",
              "18913   NaN      Nepal  28.1667   84.2500 2020-03-23        2.0     0.0   \n",
              "18914   NaN   Malaysia   2.5000  112.5000 2020-03-23     1306.0    10.0   \n",
              "\n",
              "       recovered  active  \n",
              "18910       44.0   554.0  \n",
              "18911      235.0   811.0  \n",
              "18912      144.0   309.0  \n",
              "18913        1.0     1.0  \n",
              "18914      139.0  1157.0  "
            ]
          },
          "execution_count": 19,
          "metadata": {},
          "output_type": "execute_result"
        }
      ]
    },
    {
      "cell_type": "code",
      "metadata": {
        "id": "a1362d77"
      },
      "source": [
        "#combining the latest date from the countries"
      ],
      "id": "a1362d77",
      "execution_count": null,
      "outputs": []
    },
    {
      "cell_type": "code",
      "metadata": {
        "id": "ca336763"
      },
      "source": [
        "world=top.groupby('country')['confirmed','active','deaths'].sum().reset_index()\n",
        "\n",
        "#start indexing from 0\n"
      ],
      "id": "ca336763",
      "execution_count": null,
      "outputs": []
    },
    {
      "cell_type": "code",
      "metadata": {
        "id": "62a22521",
        "outputId": "74449052-65f1-4511-df62-7f57ebb630e2"
      },
      "source": [
        "world.head()"
      ],
      "id": "62a22521",
      "execution_count": null,
      "outputs": [
        {
          "data": {
            "text/html": [
              "<div>\n",
              "<style scoped>\n",
              "    .dataframe tbody tr th:only-of-type {\n",
              "        vertical-align: middle;\n",
              "    }\n",
              "\n",
              "    .dataframe tbody tr th {\n",
              "        vertical-align: top;\n",
              "    }\n",
              "\n",
              "    .dataframe thead th {\n",
              "        text-align: right;\n",
              "    }\n",
              "</style>\n",
              "<table border=\"1\" class=\"dataframe\">\n",
              "  <thead>\n",
              "    <tr style=\"text-align: right;\">\n",
              "      <th></th>\n",
              "      <th>country</th>\n",
              "      <th>confirmed</th>\n",
              "      <th>active</th>\n",
              "      <th>deaths</th>\n",
              "    </tr>\n",
              "  </thead>\n",
              "  <tbody>\n",
              "    <tr>\n",
              "      <th>0</th>\n",
              "      <td>Afghanistan</td>\n",
              "      <td>40.0</td>\n",
              "      <td>38.0</td>\n",
              "      <td>1.0</td>\n",
              "    </tr>\n",
              "    <tr>\n",
              "      <th>1</th>\n",
              "      <td>Albania</td>\n",
              "      <td>89.0</td>\n",
              "      <td>85.0</td>\n",
              "      <td>2.0</td>\n",
              "    </tr>\n",
              "    <tr>\n",
              "      <th>2</th>\n",
              "      <td>Algeria</td>\n",
              "      <td>201.0</td>\n",
              "      <td>119.0</td>\n",
              "      <td>17.0</td>\n",
              "    </tr>\n",
              "    <tr>\n",
              "      <th>3</th>\n",
              "      <td>Andorra</td>\n",
              "      <td>113.0</td>\n",
              "      <td>111.0</td>\n",
              "      <td>1.0</td>\n",
              "    </tr>\n",
              "    <tr>\n",
              "      <th>4</th>\n",
              "      <td>Angola</td>\n",
              "      <td>2.0</td>\n",
              "      <td>2.0</td>\n",
              "      <td>0.0</td>\n",
              "    </tr>\n",
              "  </tbody>\n",
              "</table>\n",
              "</div>"
            ],
            "text/plain": [
              "       country  confirmed  active  deaths\n",
              "0  Afghanistan       40.0    38.0     1.0\n",
              "1      Albania       89.0    85.0     2.0\n",
              "2      Algeria      201.0   119.0    17.0\n",
              "3      Andorra      113.0   111.0     1.0\n",
              "4       Angola        2.0     2.0     0.0"
            ]
          },
          "execution_count": 23,
          "metadata": {},
          "output_type": "execute_result"
        }
      ]
    },
    {
      "cell_type": "code",
      "metadata": {
        "scrolled": true,
        "id": "74b87299",
        "outputId": "2babef3b-6a7b-4da2-dbd0-85e1d4aa7a7f"
      },
      "source": [
        "figure=px.choropleth(world,locations='country',\n",
        "                    locationmode='country names',color='active',\n",
        "                    hover_name='country',range_color=[1,1000],\n",
        "                    color_continuous_scale=\"viridis\",\n",
        "                    title=\"countries with active cases\")\n",
        "figure.show()"
      ],
      "id": "74b87299",
      "execution_count": null,
      "outputs": [
        {
          "data": {
            "application/vnd.plotly.v1+json": {
              "config": {
                "plotlyServerURL": "https://plot.ly"
              },
              "data": [
                {
                  "coloraxis": "coloraxis",
                  "geo": "geo",
                  "hovertemplate": "<b>%{hovertext}</b><br><br>country=%{location}<br>active=%{z}<extra></extra>",
                  "hovertext": [
                    "Afghanistan",
                    "Albania",
                    "Algeria",
                    "Andorra",
                    "Angola",
                    "Antigua and Barbuda",
                    "Argentina",
                    "Armenia",
                    "Australia",
                    "Austria",
                    "Azerbaijan",
                    "Bahamas, The",
                    "Bahrain",
                    "Bangladesh",
                    "Barbados",
                    "Belarus",
                    "Belgium",
                    "Benin",
                    "Bhutan",
                    "Bolivia",
                    "Bosnia and Herzegovina",
                    "Brazil",
                    "Brunei",
                    "Bulgaria",
                    "Burkina Faso",
                    "Cabo Verde",
                    "Cambodia",
                    "Cameroon",
                    "Canada",
                    "Cape Verde",
                    "Central African Republic",
                    "Chad",
                    "Chile",
                    "China",
                    "Colombia",
                    "Congo (Brazzaville)",
                    "Congo (Kinshasa)",
                    "Costa Rica",
                    "Cote d'Ivoire",
                    "Croatia",
                    "Cruise Ship",
                    "Cuba",
                    "Cyprus",
                    "Czechia",
                    "Denmark",
                    "Djibouti",
                    "Dominica",
                    "Dominican Republic",
                    "East Timor",
                    "Ecuador",
                    "Egypt",
                    "El Salvador",
                    "Equatorial Guinea",
                    "Eritrea",
                    "Estonia",
                    "Eswatini",
                    "Ethiopia",
                    "Fiji",
                    "Finland",
                    "France",
                    "French Guiana",
                    "Gabon",
                    "Gambia, The",
                    "Georgia",
                    "Germany",
                    "Ghana",
                    "Greece",
                    "Greenland",
                    "Grenada",
                    "Guadeloupe",
                    "Guam",
                    "Guatemala",
                    "Guernsey",
                    "Guinea",
                    "Guyana",
                    "Haiti",
                    "Holy See",
                    "Honduras",
                    "Hungary",
                    "Iceland",
                    "India",
                    "Indonesia",
                    "Iran",
                    "Iraq",
                    "Ireland",
                    "Israel",
                    "Italy",
                    "Jamaica",
                    "Japan",
                    "Jersey",
                    "Jordan",
                    "Kazakhstan",
                    "Kenya",
                    "Kosovo",
                    "Kuwait",
                    "Kyrgyzstan",
                    "Latvia",
                    "Lebanon",
                    "Liberia",
                    "Liechtenstein",
                    "Lithuania",
                    "Luxembourg",
                    "Madagascar",
                    "Malaysia",
                    "Maldives",
                    "Malta",
                    "Martinique",
                    "Mauritania",
                    "Mauritius",
                    "Mayotte",
                    "Mexico",
                    "Moldova",
                    "Monaco",
                    "Mongolia",
                    "Montenegro",
                    "Morocco",
                    "Mozambique",
                    "Namibia",
                    "Nepal",
                    "Netherlands",
                    "New Zealand",
                    "Nicaragua",
                    "Niger",
                    "Nigeria",
                    "North Macedonia",
                    "Norway",
                    "Oman",
                    "Pakistan",
                    "Panama",
                    "Papua New Guinea",
                    "Paraguay",
                    "Peru",
                    "Philippines",
                    "Poland",
                    "Portugal",
                    "Puerto Rico",
                    "Qatar",
                    "Republic of the Congo",
                    "Reunion",
                    "Romania",
                    "Russia",
                    "Rwanda",
                    "Saint Lucia",
                    "Saint Vincent and the Grenadines",
                    "San Marino",
                    "Saudi Arabia",
                    "Senegal",
                    "Serbia",
                    "Seychelles",
                    "Singapore",
                    "Slovakia",
                    "Slovenia",
                    "Somalia",
                    "South Africa",
                    "South Korea",
                    "Spain",
                    "Sri Lanka",
                    "Sudan",
                    "Suriname",
                    "Sweden",
                    "Switzerland",
                    "Syria",
                    "Taiwan*",
                    "Tanzania",
                    "Thailand",
                    "The Bahamas",
                    "The Gambia",
                    "Timor-Leste",
                    "Togo",
                    "Trinidad and Tobago",
                    "Tunisia",
                    "Turkey",
                    "US",
                    "Uganda",
                    "Ukraine",
                    "United Arab Emirates",
                    "United Kingdom",
                    "Uruguay",
                    "Uzbekistan",
                    "Venezuela",
                    "Vietnam",
                    "Zambia",
                    "Zimbabwe"
                  ],
                  "locationmode": "country names",
                  "locations": [
                    "Afghanistan",
                    "Albania",
                    "Algeria",
                    "Andorra",
                    "Angola",
                    "Antigua and Barbuda",
                    "Argentina",
                    "Armenia",
                    "Australia",
                    "Austria",
                    "Azerbaijan",
                    "Bahamas, The",
                    "Bahrain",
                    "Bangladesh",
                    "Barbados",
                    "Belarus",
                    "Belgium",
                    "Benin",
                    "Bhutan",
                    "Bolivia",
                    "Bosnia and Herzegovina",
                    "Brazil",
                    "Brunei",
                    "Bulgaria",
                    "Burkina Faso",
                    "Cabo Verde",
                    "Cambodia",
                    "Cameroon",
                    "Canada",
                    "Cape Verde",
                    "Central African Republic",
                    "Chad",
                    "Chile",
                    "China",
                    "Colombia",
                    "Congo (Brazzaville)",
                    "Congo (Kinshasa)",
                    "Costa Rica",
                    "Cote d'Ivoire",
                    "Croatia",
                    "Cruise Ship",
                    "Cuba",
                    "Cyprus",
                    "Czechia",
                    "Denmark",
                    "Djibouti",
                    "Dominica",
                    "Dominican Republic",
                    "East Timor",
                    "Ecuador",
                    "Egypt",
                    "El Salvador",
                    "Equatorial Guinea",
                    "Eritrea",
                    "Estonia",
                    "Eswatini",
                    "Ethiopia",
                    "Fiji",
                    "Finland",
                    "France",
                    "French Guiana",
                    "Gabon",
                    "Gambia, The",
                    "Georgia",
                    "Germany",
                    "Ghana",
                    "Greece",
                    "Greenland",
                    "Grenada",
                    "Guadeloupe",
                    "Guam",
                    "Guatemala",
                    "Guernsey",
                    "Guinea",
                    "Guyana",
                    "Haiti",
                    "Holy See",
                    "Honduras",
                    "Hungary",
                    "Iceland",
                    "India",
                    "Indonesia",
                    "Iran",
                    "Iraq",
                    "Ireland",
                    "Israel",
                    "Italy",
                    "Jamaica",
                    "Japan",
                    "Jersey",
                    "Jordan",
                    "Kazakhstan",
                    "Kenya",
                    "Kosovo",
                    "Kuwait",
                    "Kyrgyzstan",
                    "Latvia",
                    "Lebanon",
                    "Liberia",
                    "Liechtenstein",
                    "Lithuania",
                    "Luxembourg",
                    "Madagascar",
                    "Malaysia",
                    "Maldives",
                    "Malta",
                    "Martinique",
                    "Mauritania",
                    "Mauritius",
                    "Mayotte",
                    "Mexico",
                    "Moldova",
                    "Monaco",
                    "Mongolia",
                    "Montenegro",
                    "Morocco",
                    "Mozambique",
                    "Namibia",
                    "Nepal",
                    "Netherlands",
                    "New Zealand",
                    "Nicaragua",
                    "Niger",
                    "Nigeria",
                    "North Macedonia",
                    "Norway",
                    "Oman",
                    "Pakistan",
                    "Panama",
                    "Papua New Guinea",
                    "Paraguay",
                    "Peru",
                    "Philippines",
                    "Poland",
                    "Portugal",
                    "Puerto Rico",
                    "Qatar",
                    "Republic of the Congo",
                    "Reunion",
                    "Romania",
                    "Russia",
                    "Rwanda",
                    "Saint Lucia",
                    "Saint Vincent and the Grenadines",
                    "San Marino",
                    "Saudi Arabia",
                    "Senegal",
                    "Serbia",
                    "Seychelles",
                    "Singapore",
                    "Slovakia",
                    "Slovenia",
                    "Somalia",
                    "South Africa",
                    "South Korea",
                    "Spain",
                    "Sri Lanka",
                    "Sudan",
                    "Suriname",
                    "Sweden",
                    "Switzerland",
                    "Syria",
                    "Taiwan*",
                    "Tanzania",
                    "Thailand",
                    "The Bahamas",
                    "The Gambia",
                    "Timor-Leste",
                    "Togo",
                    "Trinidad and Tobago",
                    "Tunisia",
                    "Turkey",
                    "US",
                    "Uganda",
                    "Ukraine",
                    "United Arab Emirates",
                    "United Kingdom",
                    "Uruguay",
                    "Uzbekistan",
                    "Venezuela",
                    "Vietnam",
                    "Zambia",
                    "Zimbabwe"
                  ],
                  "name": "",
                  "type": "choropleth",
                  "z": [
                    38,
                    85,
                    119,
                    111,
                    2,
                    1,
                    218,
                    192,
                    1219,
                    3219,
                    54,
                    4,
                    181,
                    22,
                    14,
                    61,
                    3063,
                    2,
                    2,
                    24,
                    123,
                    1566,
                    86,
                    181,
                    66,
                    3,
                    83,
                    40,
                    1439,
                    0,
                    3,
                    1,
                    623,
                    5351,
                    226,
                    3,
                    29,
                    130,
                    13,
                    248,
                    379,
                    34,
                    91,
                    1113,
                    1500,
                    1,
                    1,
                    199,
                    0,
                    772,
                    257,
                    3,
                    6,
                    1,
                    324,
                    4,
                    7,
                    2,
                    615,
                    13170,
                    12,
                    4,
                    1,
                    51,
                    24513,
                    23,
                    590,
                    0,
                    1,
                    56,
                    -1,
                    18,
                    0,
                    2,
                    6,
                    2,
                    1,
                    26,
                    109,
                    531,
                    362,
                    437,
                    12022,
                    156,
                    897,
                    1033,
                    46638,
                    13,
                    811,
                    0,
                    111,
                    60,
                    15,
                    2,
                    161,
                    14,
                    138,
                    236,
                    3,
                    37,
                    129,
                    784,
                    3,
                    1157,
                    13,
                    88,
                    36,
                    2,
                    17,
                    11,
                    245,
                    92,
                    22,
                    10,
                    21,
                    108,
                    1,
                    3,
                    1,
                    4034,
                    66,
                    2,
                    2,
                    28,
                    112,
                    2375,
                    38,
                    766,
                    242,
                    1,
                    21,
                    357,
                    338,
                    626,
                    1581,
                    -1,
                    461,
                    0,
                    47,
                    366,
                    351,
                    19,
                    2,
                    1,
                    136,
                    495,
                    62,
                    219,
                    7,
                    309,
                    177,
                    412,
                    1,
                    274,
                    5884,
                    24421,
                    79,
                    1,
                    5,
                    1897,
                    7016,
                    1,
                    139,
                    12,
                    554,
                    0,
                    0,
                    1,
                    15,
                    49,
                    71,
                    1206,
                    32681,
                    1,
                    69,
                    113,
                    5392,
                    135,
                    43,
                    55,
                    96,
                    3,
                    3
                  ]
                }
              ],
              "layout": {
                "coloraxis": {
                  "cmax": 1000,
                  "cmin": 1,
                  "colorbar": {
                    "title": {
                      "text": "active"
                    }
                  },
                  "colorscale": [
                    [
                      0,
                      "#440154"
                    ],
                    [
                      0.1111111111111111,
                      "#482878"
                    ],
                    [
                      0.2222222222222222,
                      "#3e4989"
                    ],
                    [
                      0.3333333333333333,
                      "#31688e"
                    ],
                    [
                      0.4444444444444444,
                      "#26828e"
                    ],
                    [
                      0.5555555555555556,
                      "#1f9e89"
                    ],
                    [
                      0.6666666666666666,
                      "#35b779"
                    ],
                    [
                      0.7777777777777778,
                      "#6ece58"
                    ],
                    [
                      0.8888888888888888,
                      "#b5de2b"
                    ],
                    [
                      1,
                      "#fde725"
                    ]
                  ]
                },
                "geo": {
                  "center": {},
                  "domain": {
                    "x": [
                      0,
                      1
                    ],
                    "y": [
                      0,
                      1
                    ]
                  }
                },
                "legend": {
                  "tracegroupgap": 0
                },
                "template": {
                  "data": {
                    "bar": [
                      {
                        "error_x": {
                          "color": "#2a3f5f"
                        },
                        "error_y": {
                          "color": "#2a3f5f"
                        },
                        "marker": {
                          "line": {
                            "color": "#E5ECF6",
                            "width": 0.5
                          },
                          "pattern": {
                            "fillmode": "overlay",
                            "size": 10,
                            "solidity": 0.2
                          }
                        },
                        "type": "bar"
                      }
                    ],
                    "barpolar": [
                      {
                        "marker": {
                          "line": {
                            "color": "#E5ECF6",
                            "width": 0.5
                          },
                          "pattern": {
                            "fillmode": "overlay",
                            "size": 10,
                            "solidity": 0.2
                          }
                        },
                        "type": "barpolar"
                      }
                    ],
                    "carpet": [
                      {
                        "aaxis": {
                          "endlinecolor": "#2a3f5f",
                          "gridcolor": "white",
                          "linecolor": "white",
                          "minorgridcolor": "white",
                          "startlinecolor": "#2a3f5f"
                        },
                        "baxis": {
                          "endlinecolor": "#2a3f5f",
                          "gridcolor": "white",
                          "linecolor": "white",
                          "minorgridcolor": "white",
                          "startlinecolor": "#2a3f5f"
                        },
                        "type": "carpet"
                      }
                    ],
                    "choropleth": [
                      {
                        "colorbar": {
                          "outlinewidth": 0,
                          "ticks": ""
                        },
                        "type": "choropleth"
                      }
                    ],
                    "contour": [
                      {
                        "colorbar": {
                          "outlinewidth": 0,
                          "ticks": ""
                        },
                        "colorscale": [
                          [
                            0,
                            "#0d0887"
                          ],
                          [
                            0.1111111111111111,
                            "#46039f"
                          ],
                          [
                            0.2222222222222222,
                            "#7201a8"
                          ],
                          [
                            0.3333333333333333,
                            "#9c179e"
                          ],
                          [
                            0.4444444444444444,
                            "#bd3786"
                          ],
                          [
                            0.5555555555555556,
                            "#d8576b"
                          ],
                          [
                            0.6666666666666666,
                            "#ed7953"
                          ],
                          [
                            0.7777777777777778,
                            "#fb9f3a"
                          ],
                          [
                            0.8888888888888888,
                            "#fdca26"
                          ],
                          [
                            1,
                            "#f0f921"
                          ]
                        ],
                        "type": "contour"
                      }
                    ],
                    "contourcarpet": [
                      {
                        "colorbar": {
                          "outlinewidth": 0,
                          "ticks": ""
                        },
                        "type": "contourcarpet"
                      }
                    ],
                    "heatmap": [
                      {
                        "colorbar": {
                          "outlinewidth": 0,
                          "ticks": ""
                        },
                        "colorscale": [
                          [
                            0,
                            "#0d0887"
                          ],
                          [
                            0.1111111111111111,
                            "#46039f"
                          ],
                          [
                            0.2222222222222222,
                            "#7201a8"
                          ],
                          [
                            0.3333333333333333,
                            "#9c179e"
                          ],
                          [
                            0.4444444444444444,
                            "#bd3786"
                          ],
                          [
                            0.5555555555555556,
                            "#d8576b"
                          ],
                          [
                            0.6666666666666666,
                            "#ed7953"
                          ],
                          [
                            0.7777777777777778,
                            "#fb9f3a"
                          ],
                          [
                            0.8888888888888888,
                            "#fdca26"
                          ],
                          [
                            1,
                            "#f0f921"
                          ]
                        ],
                        "type": "heatmap"
                      }
                    ],
                    "heatmapgl": [
                      {
                        "colorbar": {
                          "outlinewidth": 0,
                          "ticks": ""
                        },
                        "colorscale": [
                          [
                            0,
                            "#0d0887"
                          ],
                          [
                            0.1111111111111111,
                            "#46039f"
                          ],
                          [
                            0.2222222222222222,
                            "#7201a8"
                          ],
                          [
                            0.3333333333333333,
                            "#9c179e"
                          ],
                          [
                            0.4444444444444444,
                            "#bd3786"
                          ],
                          [
                            0.5555555555555556,
                            "#d8576b"
                          ],
                          [
                            0.6666666666666666,
                            "#ed7953"
                          ],
                          [
                            0.7777777777777778,
                            "#fb9f3a"
                          ],
                          [
                            0.8888888888888888,
                            "#fdca26"
                          ],
                          [
                            1,
                            "#f0f921"
                          ]
                        ],
                        "type": "heatmapgl"
                      }
                    ],
                    "histogram": [
                      {
                        "marker": {
                          "pattern": {
                            "fillmode": "overlay",
                            "size": 10,
                            "solidity": 0.2
                          }
                        },
                        "type": "histogram"
                      }
                    ],
                    "histogram2d": [
                      {
                        "colorbar": {
                          "outlinewidth": 0,
                          "ticks": ""
                        },
                        "colorscale": [
                          [
                            0,
                            "#0d0887"
                          ],
                          [
                            0.1111111111111111,
                            "#46039f"
                          ],
                          [
                            0.2222222222222222,
                            "#7201a8"
                          ],
                          [
                            0.3333333333333333,
                            "#9c179e"
                          ],
                          [
                            0.4444444444444444,
                            "#bd3786"
                          ],
                          [
                            0.5555555555555556,
                            "#d8576b"
                          ],
                          [
                            0.6666666666666666,
                            "#ed7953"
                          ],
                          [
                            0.7777777777777778,
                            "#fb9f3a"
                          ],
                          [
                            0.8888888888888888,
                            "#fdca26"
                          ],
                          [
                            1,
                            "#f0f921"
                          ]
                        ],
                        "type": "histogram2d"
                      }
                    ],
                    "histogram2dcontour": [
                      {
                        "colorbar": {
                          "outlinewidth": 0,
                          "ticks": ""
                        },
                        "colorscale": [
                          [
                            0,
                            "#0d0887"
                          ],
                          [
                            0.1111111111111111,
                            "#46039f"
                          ],
                          [
                            0.2222222222222222,
                            "#7201a8"
                          ],
                          [
                            0.3333333333333333,
                            "#9c179e"
                          ],
                          [
                            0.4444444444444444,
                            "#bd3786"
                          ],
                          [
                            0.5555555555555556,
                            "#d8576b"
                          ],
                          [
                            0.6666666666666666,
                            "#ed7953"
                          ],
                          [
                            0.7777777777777778,
                            "#fb9f3a"
                          ],
                          [
                            0.8888888888888888,
                            "#fdca26"
                          ],
                          [
                            1,
                            "#f0f921"
                          ]
                        ],
                        "type": "histogram2dcontour"
                      }
                    ],
                    "mesh3d": [
                      {
                        "colorbar": {
                          "outlinewidth": 0,
                          "ticks": ""
                        },
                        "type": "mesh3d"
                      }
                    ],
                    "parcoords": [
                      {
                        "line": {
                          "colorbar": {
                            "outlinewidth": 0,
                            "ticks": ""
                          }
                        },
                        "type": "parcoords"
                      }
                    ],
                    "pie": [
                      {
                        "automargin": true,
                        "type": "pie"
                      }
                    ],
                    "scatter": [
                      {
                        "marker": {
                          "colorbar": {
                            "outlinewidth": 0,
                            "ticks": ""
                          }
                        },
                        "type": "scatter"
                      }
                    ],
                    "scatter3d": [
                      {
                        "line": {
                          "colorbar": {
                            "outlinewidth": 0,
                            "ticks": ""
                          }
                        },
                        "marker": {
                          "colorbar": {
                            "outlinewidth": 0,
                            "ticks": ""
                          }
                        },
                        "type": "scatter3d"
                      }
                    ],
                    "scattercarpet": [
                      {
                        "marker": {
                          "colorbar": {
                            "outlinewidth": 0,
                            "ticks": ""
                          }
                        },
                        "type": "scattercarpet"
                      }
                    ],
                    "scattergeo": [
                      {
                        "marker": {
                          "colorbar": {
                            "outlinewidth": 0,
                            "ticks": ""
                          }
                        },
                        "type": "scattergeo"
                      }
                    ],
                    "scattergl": [
                      {
                        "marker": {
                          "colorbar": {
                            "outlinewidth": 0,
                            "ticks": ""
                          }
                        },
                        "type": "scattergl"
                      }
                    ],
                    "scattermapbox": [
                      {
                        "marker": {
                          "colorbar": {
                            "outlinewidth": 0,
                            "ticks": ""
                          }
                        },
                        "type": "scattermapbox"
                      }
                    ],
                    "scatterpolar": [
                      {
                        "marker": {
                          "colorbar": {
                            "outlinewidth": 0,
                            "ticks": ""
                          }
                        },
                        "type": "scatterpolar"
                      }
                    ],
                    "scatterpolargl": [
                      {
                        "marker": {
                          "colorbar": {
                            "outlinewidth": 0,
                            "ticks": ""
                          }
                        },
                        "type": "scatterpolargl"
                      }
                    ],
                    "scatterternary": [
                      {
                        "marker": {
                          "colorbar": {
                            "outlinewidth": 0,
                            "ticks": ""
                          }
                        },
                        "type": "scatterternary"
                      }
                    ],
                    "surface": [
                      {
                        "colorbar": {
                          "outlinewidth": 0,
                          "ticks": ""
                        },
                        "colorscale": [
                          [
                            0,
                            "#0d0887"
                          ],
                          [
                            0.1111111111111111,
                            "#46039f"
                          ],
                          [
                            0.2222222222222222,
                            "#7201a8"
                          ],
                          [
                            0.3333333333333333,
                            "#9c179e"
                          ],
                          [
                            0.4444444444444444,
                            "#bd3786"
                          ],
                          [
                            0.5555555555555556,
                            "#d8576b"
                          ],
                          [
                            0.6666666666666666,
                            "#ed7953"
                          ],
                          [
                            0.7777777777777778,
                            "#fb9f3a"
                          ],
                          [
                            0.8888888888888888,
                            "#fdca26"
                          ],
                          [
                            1,
                            "#f0f921"
                          ]
                        ],
                        "type": "surface"
                      }
                    ],
                    "table": [
                      {
                        "cells": {
                          "fill": {
                            "color": "#EBF0F8"
                          },
                          "line": {
                            "color": "white"
                          }
                        },
                        "header": {
                          "fill": {
                            "color": "#C8D4E3"
                          },
                          "line": {
                            "color": "white"
                          }
                        },
                        "type": "table"
                      }
                    ]
                  },
                  "layout": {
                    "annotationdefaults": {
                      "arrowcolor": "#2a3f5f",
                      "arrowhead": 0,
                      "arrowwidth": 1
                    },
                    "autotypenumbers": "strict",
                    "coloraxis": {
                      "colorbar": {
                        "outlinewidth": 0,
                        "ticks": ""
                      }
                    },
                    "colorscale": {
                      "diverging": [
                        [
                          0,
                          "#8e0152"
                        ],
                        [
                          0.1,
                          "#c51b7d"
                        ],
                        [
                          0.2,
                          "#de77ae"
                        ],
                        [
                          0.3,
                          "#f1b6da"
                        ],
                        [
                          0.4,
                          "#fde0ef"
                        ],
                        [
                          0.5,
                          "#f7f7f7"
                        ],
                        [
                          0.6,
                          "#e6f5d0"
                        ],
                        [
                          0.7,
                          "#b8e186"
                        ],
                        [
                          0.8,
                          "#7fbc41"
                        ],
                        [
                          0.9,
                          "#4d9221"
                        ],
                        [
                          1,
                          "#276419"
                        ]
                      ],
                      "sequential": [
                        [
                          0,
                          "#0d0887"
                        ],
                        [
                          0.1111111111111111,
                          "#46039f"
                        ],
                        [
                          0.2222222222222222,
                          "#7201a8"
                        ],
                        [
                          0.3333333333333333,
                          "#9c179e"
                        ],
                        [
                          0.4444444444444444,
                          "#bd3786"
                        ],
                        [
                          0.5555555555555556,
                          "#d8576b"
                        ],
                        [
                          0.6666666666666666,
                          "#ed7953"
                        ],
                        [
                          0.7777777777777778,
                          "#fb9f3a"
                        ],
                        [
                          0.8888888888888888,
                          "#fdca26"
                        ],
                        [
                          1,
                          "#f0f921"
                        ]
                      ],
                      "sequentialminus": [
                        [
                          0,
                          "#0d0887"
                        ],
                        [
                          0.1111111111111111,
                          "#46039f"
                        ],
                        [
                          0.2222222222222222,
                          "#7201a8"
                        ],
                        [
                          0.3333333333333333,
                          "#9c179e"
                        ],
                        [
                          0.4444444444444444,
                          "#bd3786"
                        ],
                        [
                          0.5555555555555556,
                          "#d8576b"
                        ],
                        [
                          0.6666666666666666,
                          "#ed7953"
                        ],
                        [
                          0.7777777777777778,
                          "#fb9f3a"
                        ],
                        [
                          0.8888888888888888,
                          "#fdca26"
                        ],
                        [
                          1,
                          "#f0f921"
                        ]
                      ]
                    },
                    "colorway": [
                      "#636efa",
                      "#EF553B",
                      "#00cc96",
                      "#ab63fa",
                      "#FFA15A",
                      "#19d3f3",
                      "#FF6692",
                      "#B6E880",
                      "#FF97FF",
                      "#FECB52"
                    ],
                    "font": {
                      "color": "#2a3f5f"
                    },
                    "geo": {
                      "bgcolor": "white",
                      "lakecolor": "white",
                      "landcolor": "#E5ECF6",
                      "showlakes": true,
                      "showland": true,
                      "subunitcolor": "white"
                    },
                    "hoverlabel": {
                      "align": "left"
                    },
                    "hovermode": "closest",
                    "mapbox": {
                      "style": "light"
                    },
                    "paper_bgcolor": "white",
                    "plot_bgcolor": "#E5ECF6",
                    "polar": {
                      "angularaxis": {
                        "gridcolor": "white",
                        "linecolor": "white",
                        "ticks": ""
                      },
                      "bgcolor": "#E5ECF6",
                      "radialaxis": {
                        "gridcolor": "white",
                        "linecolor": "white",
                        "ticks": ""
                      }
                    },
                    "scene": {
                      "xaxis": {
                        "backgroundcolor": "#E5ECF6",
                        "gridcolor": "white",
                        "gridwidth": 2,
                        "linecolor": "white",
                        "showbackground": true,
                        "ticks": "",
                        "zerolinecolor": "white"
                      },
                      "yaxis": {
                        "backgroundcolor": "#E5ECF6",
                        "gridcolor": "white",
                        "gridwidth": 2,
                        "linecolor": "white",
                        "showbackground": true,
                        "ticks": "",
                        "zerolinecolor": "white"
                      },
                      "zaxis": {
                        "backgroundcolor": "#E5ECF6",
                        "gridcolor": "white",
                        "gridwidth": 2,
                        "linecolor": "white",
                        "showbackground": true,
                        "ticks": "",
                        "zerolinecolor": "white"
                      }
                    },
                    "shapedefaults": {
                      "line": {
                        "color": "#2a3f5f"
                      }
                    },
                    "ternary": {
                      "aaxis": {
                        "gridcolor": "white",
                        "linecolor": "white",
                        "ticks": ""
                      },
                      "baxis": {
                        "gridcolor": "white",
                        "linecolor": "white",
                        "ticks": ""
                      },
                      "bgcolor": "#E5ECF6",
                      "caxis": {
                        "gridcolor": "white",
                        "linecolor": "white",
                        "ticks": ""
                      }
                    },
                    "title": {
                      "x": 0.05
                    },
                    "xaxis": {
                      "automargin": true,
                      "gridcolor": "white",
                      "linecolor": "white",
                      "ticks": "",
                      "title": {
                        "standoff": 15
                      },
                      "zerolinecolor": "white",
                      "zerolinewidth": 2
                    },
                    "yaxis": {
                      "automargin": true,
                      "gridcolor": "white",
                      "linecolor": "white",
                      "ticks": "",
                      "title": {
                        "standoff": 15
                      },
                      "zerolinecolor": "white",
                      "zerolinewidth": 2
                    }
                  }
                },
                "title": {
                  "text": "countries with active cases"
                }
              }
            },
            "text/html": [
              "<div>                            <div id=\"0f03684f-b3fa-4686-bee6-0f7cdabf9775\" class=\"plotly-graph-div\" style=\"height:525px; width:100%;\"></div>            <script type=\"text/javascript\">                require([\"plotly\"], function(Plotly) {                    window.PLOTLYENV=window.PLOTLYENV || {};                                    if (document.getElementById(\"0f03684f-b3fa-4686-bee6-0f7cdabf9775\")) {                    Plotly.newPlot(                        \"0f03684f-b3fa-4686-bee6-0f7cdabf9775\",                        [{\"coloraxis\":\"coloraxis\",\"geo\":\"geo\",\"hovertemplate\":\"<b>%{hovertext}</b><br><br>country=%{location}<br>active=%{z}<extra></extra>\",\"hovertext\":[\"Afghanistan\",\"Albania\",\"Algeria\",\"Andorra\",\"Angola\",\"Antigua and Barbuda\",\"Argentina\",\"Armenia\",\"Australia\",\"Austria\",\"Azerbaijan\",\"Bahamas, The\",\"Bahrain\",\"Bangladesh\",\"Barbados\",\"Belarus\",\"Belgium\",\"Benin\",\"Bhutan\",\"Bolivia\",\"Bosnia and Herzegovina\",\"Brazil\",\"Brunei\",\"Bulgaria\",\"Burkina Faso\",\"Cabo Verde\",\"Cambodia\",\"Cameroon\",\"Canada\",\"Cape Verde\",\"Central African Republic\",\"Chad\",\"Chile\",\"China\",\"Colombia\",\"Congo (Brazzaville)\",\"Congo (Kinshasa)\",\"Costa Rica\",\"Cote d'Ivoire\",\"Croatia\",\"Cruise Ship\",\"Cuba\",\"Cyprus\",\"Czechia\",\"Denmark\",\"Djibouti\",\"Dominica\",\"Dominican Republic\",\"East Timor\",\"Ecuador\",\"Egypt\",\"El Salvador\",\"Equatorial Guinea\",\"Eritrea\",\"Estonia\",\"Eswatini\",\"Ethiopia\",\"Fiji\",\"Finland\",\"France\",\"French Guiana\",\"Gabon\",\"Gambia, The\",\"Georgia\",\"Germany\",\"Ghana\",\"Greece\",\"Greenland\",\"Grenada\",\"Guadeloupe\",\"Guam\",\"Guatemala\",\"Guernsey\",\"Guinea\",\"Guyana\",\"Haiti\",\"Holy See\",\"Honduras\",\"Hungary\",\"Iceland\",\"India\",\"Indonesia\",\"Iran\",\"Iraq\",\"Ireland\",\"Israel\",\"Italy\",\"Jamaica\",\"Japan\",\"Jersey\",\"Jordan\",\"Kazakhstan\",\"Kenya\",\"Kosovo\",\"Kuwait\",\"Kyrgyzstan\",\"Latvia\",\"Lebanon\",\"Liberia\",\"Liechtenstein\",\"Lithuania\",\"Luxembourg\",\"Madagascar\",\"Malaysia\",\"Maldives\",\"Malta\",\"Martinique\",\"Mauritania\",\"Mauritius\",\"Mayotte\",\"Mexico\",\"Moldova\",\"Monaco\",\"Mongolia\",\"Montenegro\",\"Morocco\",\"Mozambique\",\"Namibia\",\"Nepal\",\"Netherlands\",\"New Zealand\",\"Nicaragua\",\"Niger\",\"Nigeria\",\"North Macedonia\",\"Norway\",\"Oman\",\"Pakistan\",\"Panama\",\"Papua New Guinea\",\"Paraguay\",\"Peru\",\"Philippines\",\"Poland\",\"Portugal\",\"Puerto Rico\",\"Qatar\",\"Republic of the Congo\",\"Reunion\",\"Romania\",\"Russia\",\"Rwanda\",\"Saint Lucia\",\"Saint Vincent and the Grenadines\",\"San Marino\",\"Saudi Arabia\",\"Senegal\",\"Serbia\",\"Seychelles\",\"Singapore\",\"Slovakia\",\"Slovenia\",\"Somalia\",\"South Africa\",\"South Korea\",\"Spain\",\"Sri Lanka\",\"Sudan\",\"Suriname\",\"Sweden\",\"Switzerland\",\"Syria\",\"Taiwan*\",\"Tanzania\",\"Thailand\",\"The Bahamas\",\"The Gambia\",\"Timor-Leste\",\"Togo\",\"Trinidad and Tobago\",\"Tunisia\",\"Turkey\",\"US\",\"Uganda\",\"Ukraine\",\"United Arab Emirates\",\"United Kingdom\",\"Uruguay\",\"Uzbekistan\",\"Venezuela\",\"Vietnam\",\"Zambia\",\"Zimbabwe\"],\"locationmode\":\"country names\",\"locations\":[\"Afghanistan\",\"Albania\",\"Algeria\",\"Andorra\",\"Angola\",\"Antigua and Barbuda\",\"Argentina\",\"Armenia\",\"Australia\",\"Austria\",\"Azerbaijan\",\"Bahamas, The\",\"Bahrain\",\"Bangladesh\",\"Barbados\",\"Belarus\",\"Belgium\",\"Benin\",\"Bhutan\",\"Bolivia\",\"Bosnia and Herzegovina\",\"Brazil\",\"Brunei\",\"Bulgaria\",\"Burkina Faso\",\"Cabo Verde\",\"Cambodia\",\"Cameroon\",\"Canada\",\"Cape Verde\",\"Central African Republic\",\"Chad\",\"Chile\",\"China\",\"Colombia\",\"Congo (Brazzaville)\",\"Congo (Kinshasa)\",\"Costa Rica\",\"Cote d'Ivoire\",\"Croatia\",\"Cruise Ship\",\"Cuba\",\"Cyprus\",\"Czechia\",\"Denmark\",\"Djibouti\",\"Dominica\",\"Dominican Republic\",\"East Timor\",\"Ecuador\",\"Egypt\",\"El Salvador\",\"Equatorial Guinea\",\"Eritrea\",\"Estonia\",\"Eswatini\",\"Ethiopia\",\"Fiji\",\"Finland\",\"France\",\"French Guiana\",\"Gabon\",\"Gambia, The\",\"Georgia\",\"Germany\",\"Ghana\",\"Greece\",\"Greenland\",\"Grenada\",\"Guadeloupe\",\"Guam\",\"Guatemala\",\"Guernsey\",\"Guinea\",\"Guyana\",\"Haiti\",\"Holy See\",\"Honduras\",\"Hungary\",\"Iceland\",\"India\",\"Indonesia\",\"Iran\",\"Iraq\",\"Ireland\",\"Israel\",\"Italy\",\"Jamaica\",\"Japan\",\"Jersey\",\"Jordan\",\"Kazakhstan\",\"Kenya\",\"Kosovo\",\"Kuwait\",\"Kyrgyzstan\",\"Latvia\",\"Lebanon\",\"Liberia\",\"Liechtenstein\",\"Lithuania\",\"Luxembourg\",\"Madagascar\",\"Malaysia\",\"Maldives\",\"Malta\",\"Martinique\",\"Mauritania\",\"Mauritius\",\"Mayotte\",\"Mexico\",\"Moldova\",\"Monaco\",\"Mongolia\",\"Montenegro\",\"Morocco\",\"Mozambique\",\"Namibia\",\"Nepal\",\"Netherlands\",\"New Zealand\",\"Nicaragua\",\"Niger\",\"Nigeria\",\"North Macedonia\",\"Norway\",\"Oman\",\"Pakistan\",\"Panama\",\"Papua New Guinea\",\"Paraguay\",\"Peru\",\"Philippines\",\"Poland\",\"Portugal\",\"Puerto Rico\",\"Qatar\",\"Republic of the Congo\",\"Reunion\",\"Romania\",\"Russia\",\"Rwanda\",\"Saint Lucia\",\"Saint Vincent and the Grenadines\",\"San Marino\",\"Saudi Arabia\",\"Senegal\",\"Serbia\",\"Seychelles\",\"Singapore\",\"Slovakia\",\"Slovenia\",\"Somalia\",\"South Africa\",\"South Korea\",\"Spain\",\"Sri Lanka\",\"Sudan\",\"Suriname\",\"Sweden\",\"Switzerland\",\"Syria\",\"Taiwan*\",\"Tanzania\",\"Thailand\",\"The Bahamas\",\"The Gambia\",\"Timor-Leste\",\"Togo\",\"Trinidad and Tobago\",\"Tunisia\",\"Turkey\",\"US\",\"Uganda\",\"Ukraine\",\"United Arab Emirates\",\"United Kingdom\",\"Uruguay\",\"Uzbekistan\",\"Venezuela\",\"Vietnam\",\"Zambia\",\"Zimbabwe\"],\"name\":\"\",\"type\":\"choropleth\",\"z\":[38.0,85.0,119.0,111.0,2.0,1.0,218.0,192.0,1219.0,3219.0,54.0,4.0,181.0,22.0,14.0,61.0,3063.0,2.0,2.0,24.0,123.0,1566.0,86.0,181.0,66.0,3.0,83.0,40.0,1439.0,0.0,3.0,1.0,623.0,5351.0,226.0,3.0,29.0,130.0,13.0,248.0,379.0,34.0,91.0,1113.0,1500.0,1.0,1.0,199.0,0.0,772.0,257.0,3.0,6.0,1.0,324.0,4.0,7.0,2.0,615.0,13170.0,12.0,4.0,1.0,51.0,24513.0,23.0,590.0,0.0,1.0,56.0,-1.0,18.0,0.0,2.0,6.0,2.0,1.0,26.0,109.0,531.0,362.0,437.0,12022.0,156.0,897.0,1033.0,46638.0,13.0,811.0,0.0,111.0,60.0,15.0,2.0,161.0,14.0,138.0,236.0,3.0,37.0,129.0,784.0,3.0,1157.0,13.0,88.0,36.0,2.0,17.0,11.0,245.0,92.0,22.0,10.0,21.0,108.0,1.0,3.0,1.0,4034.0,66.0,2.0,2.0,28.0,112.0,2375.0,38.0,766.0,242.0,1.0,21.0,357.0,338.0,626.0,1581.0,-1.0,461.0,0.0,47.0,366.0,351.0,19.0,2.0,1.0,136.0,495.0,62.0,219.0,7.0,309.0,177.0,412.0,1.0,274.0,5884.0,24421.0,79.0,1.0,5.0,1897.0,7016.0,1.0,139.0,12.0,554.0,0.0,0.0,1.0,15.0,49.0,71.0,1206.0,32681.0,1.0,69.0,113.0,5392.0,135.0,43.0,55.0,96.0,3.0,3.0]}],                        {\"coloraxis\":{\"cmax\":1000,\"cmin\":1,\"colorbar\":{\"title\":{\"text\":\"active\"}},\"colorscale\":[[0.0,\"#440154\"],[0.1111111111111111,\"#482878\"],[0.2222222222222222,\"#3e4989\"],[0.3333333333333333,\"#31688e\"],[0.4444444444444444,\"#26828e\"],[0.5555555555555556,\"#1f9e89\"],[0.6666666666666666,\"#35b779\"],[0.7777777777777778,\"#6ece58\"],[0.8888888888888888,\"#b5de2b\"],[1.0,\"#fde725\"]]},\"geo\":{\"center\":{},\"domain\":{\"x\":[0.0,1.0],\"y\":[0.0,1.0]}},\"legend\":{\"tracegroupgap\":0},\"template\":{\"data\":{\"bar\":[{\"error_x\":{\"color\":\"#2a3f5f\"},\"error_y\":{\"color\":\"#2a3f5f\"},\"marker\":{\"line\":{\"color\":\"#E5ECF6\",\"width\":0.5},\"pattern\":{\"fillmode\":\"overlay\",\"size\":10,\"solidity\":0.2}},\"type\":\"bar\"}],\"barpolar\":[{\"marker\":{\"line\":{\"color\":\"#E5ECF6\",\"width\":0.5},\"pattern\":{\"fillmode\":\"overlay\",\"size\":10,\"solidity\":0.2}},\"type\":\"barpolar\"}],\"carpet\":[{\"aaxis\":{\"endlinecolor\":\"#2a3f5f\",\"gridcolor\":\"white\",\"linecolor\":\"white\",\"minorgridcolor\":\"white\",\"startlinecolor\":\"#2a3f5f\"},\"baxis\":{\"endlinecolor\":\"#2a3f5f\",\"gridcolor\":\"white\",\"linecolor\":\"white\",\"minorgridcolor\":\"white\",\"startlinecolor\":\"#2a3f5f\"},\"type\":\"carpet\"}],\"choropleth\":[{\"colorbar\":{\"outlinewidth\":0,\"ticks\":\"\"},\"type\":\"choropleth\"}],\"contour\":[{\"colorbar\":{\"outlinewidth\":0,\"ticks\":\"\"},\"colorscale\":[[0.0,\"#0d0887\"],[0.1111111111111111,\"#46039f\"],[0.2222222222222222,\"#7201a8\"],[0.3333333333333333,\"#9c179e\"],[0.4444444444444444,\"#bd3786\"],[0.5555555555555556,\"#d8576b\"],[0.6666666666666666,\"#ed7953\"],[0.7777777777777778,\"#fb9f3a\"],[0.8888888888888888,\"#fdca26\"],[1.0,\"#f0f921\"]],\"type\":\"contour\"}],\"contourcarpet\":[{\"colorbar\":{\"outlinewidth\":0,\"ticks\":\"\"},\"type\":\"contourcarpet\"}],\"heatmap\":[{\"colorbar\":{\"outlinewidth\":0,\"ticks\":\"\"},\"colorscale\":[[0.0,\"#0d0887\"],[0.1111111111111111,\"#46039f\"],[0.2222222222222222,\"#7201a8\"],[0.3333333333333333,\"#9c179e\"],[0.4444444444444444,\"#bd3786\"],[0.5555555555555556,\"#d8576b\"],[0.6666666666666666,\"#ed7953\"],[0.7777777777777778,\"#fb9f3a\"],[0.8888888888888888,\"#fdca26\"],[1.0,\"#f0f921\"]],\"type\":\"heatmap\"}],\"heatmapgl\":[{\"colorbar\":{\"outlinewidth\":0,\"ticks\":\"\"},\"colorscale\":[[0.0,\"#0d0887\"],[0.1111111111111111,\"#46039f\"],[0.2222222222222222,\"#7201a8\"],[0.3333333333333333,\"#9c179e\"],[0.4444444444444444,\"#bd3786\"],[0.5555555555555556,\"#d8576b\"],[0.6666666666666666,\"#ed7953\"],[0.7777777777777778,\"#fb9f3a\"],[0.8888888888888888,\"#fdca26\"],[1.0,\"#f0f921\"]],\"type\":\"heatmapgl\"}],\"histogram\":[{\"marker\":{\"pattern\":{\"fillmode\":\"overlay\",\"size\":10,\"solidity\":0.2}},\"type\":\"histogram\"}],\"histogram2d\":[{\"colorbar\":{\"outlinewidth\":0,\"ticks\":\"\"},\"colorscale\":[[0.0,\"#0d0887\"],[0.1111111111111111,\"#46039f\"],[0.2222222222222222,\"#7201a8\"],[0.3333333333333333,\"#9c179e\"],[0.4444444444444444,\"#bd3786\"],[0.5555555555555556,\"#d8576b\"],[0.6666666666666666,\"#ed7953\"],[0.7777777777777778,\"#fb9f3a\"],[0.8888888888888888,\"#fdca26\"],[1.0,\"#f0f921\"]],\"type\":\"histogram2d\"}],\"histogram2dcontour\":[{\"colorbar\":{\"outlinewidth\":0,\"ticks\":\"\"},\"colorscale\":[[0.0,\"#0d0887\"],[0.1111111111111111,\"#46039f\"],[0.2222222222222222,\"#7201a8\"],[0.3333333333333333,\"#9c179e\"],[0.4444444444444444,\"#bd3786\"],[0.5555555555555556,\"#d8576b\"],[0.6666666666666666,\"#ed7953\"],[0.7777777777777778,\"#fb9f3a\"],[0.8888888888888888,\"#fdca26\"],[1.0,\"#f0f921\"]],\"type\":\"histogram2dcontour\"}],\"mesh3d\":[{\"colorbar\":{\"outlinewidth\":0,\"ticks\":\"\"},\"type\":\"mesh3d\"}],\"parcoords\":[{\"line\":{\"colorbar\":{\"outlinewidth\":0,\"ticks\":\"\"}},\"type\":\"parcoords\"}],\"pie\":[{\"automargin\":true,\"type\":\"pie\"}],\"scatter\":[{\"marker\":{\"colorbar\":{\"outlinewidth\":0,\"ticks\":\"\"}},\"type\":\"scatter\"}],\"scatter3d\":[{\"line\":{\"colorbar\":{\"outlinewidth\":0,\"ticks\":\"\"}},\"marker\":{\"colorbar\":{\"outlinewidth\":0,\"ticks\":\"\"}},\"type\":\"scatter3d\"}],\"scattercarpet\":[{\"marker\":{\"colorbar\":{\"outlinewidth\":0,\"ticks\":\"\"}},\"type\":\"scattercarpet\"}],\"scattergeo\":[{\"marker\":{\"colorbar\":{\"outlinewidth\":0,\"ticks\":\"\"}},\"type\":\"scattergeo\"}],\"scattergl\":[{\"marker\":{\"colorbar\":{\"outlinewidth\":0,\"ticks\":\"\"}},\"type\":\"scattergl\"}],\"scattermapbox\":[{\"marker\":{\"colorbar\":{\"outlinewidth\":0,\"ticks\":\"\"}},\"type\":\"scattermapbox\"}],\"scatterpolar\":[{\"marker\":{\"colorbar\":{\"outlinewidth\":0,\"ticks\":\"\"}},\"type\":\"scatterpolar\"}],\"scatterpolargl\":[{\"marker\":{\"colorbar\":{\"outlinewidth\":0,\"ticks\":\"\"}},\"type\":\"scatterpolargl\"}],\"scatterternary\":[{\"marker\":{\"colorbar\":{\"outlinewidth\":0,\"ticks\":\"\"}},\"type\":\"scatterternary\"}],\"surface\":[{\"colorbar\":{\"outlinewidth\":0,\"ticks\":\"\"},\"colorscale\":[[0.0,\"#0d0887\"],[0.1111111111111111,\"#46039f\"],[0.2222222222222222,\"#7201a8\"],[0.3333333333333333,\"#9c179e\"],[0.4444444444444444,\"#bd3786\"],[0.5555555555555556,\"#d8576b\"],[0.6666666666666666,\"#ed7953\"],[0.7777777777777778,\"#fb9f3a\"],[0.8888888888888888,\"#fdca26\"],[1.0,\"#f0f921\"]],\"type\":\"surface\"}],\"table\":[{\"cells\":{\"fill\":{\"color\":\"#EBF0F8\"},\"line\":{\"color\":\"white\"}},\"header\":{\"fill\":{\"color\":\"#C8D4E3\"},\"line\":{\"color\":\"white\"}},\"type\":\"table\"}]},\"layout\":{\"annotationdefaults\":{\"arrowcolor\":\"#2a3f5f\",\"arrowhead\":0,\"arrowwidth\":1},\"autotypenumbers\":\"strict\",\"coloraxis\":{\"colorbar\":{\"outlinewidth\":0,\"ticks\":\"\"}},\"colorscale\":{\"diverging\":[[0,\"#8e0152\"],[0.1,\"#c51b7d\"],[0.2,\"#de77ae\"],[0.3,\"#f1b6da\"],[0.4,\"#fde0ef\"],[0.5,\"#f7f7f7\"],[0.6,\"#e6f5d0\"],[0.7,\"#b8e186\"],[0.8,\"#7fbc41\"],[0.9,\"#4d9221\"],[1,\"#276419\"]],\"sequential\":[[0.0,\"#0d0887\"],[0.1111111111111111,\"#46039f\"],[0.2222222222222222,\"#7201a8\"],[0.3333333333333333,\"#9c179e\"],[0.4444444444444444,\"#bd3786\"],[0.5555555555555556,\"#d8576b\"],[0.6666666666666666,\"#ed7953\"],[0.7777777777777778,\"#fb9f3a\"],[0.8888888888888888,\"#fdca26\"],[1.0,\"#f0f921\"]],\"sequentialminus\":[[0.0,\"#0d0887\"],[0.1111111111111111,\"#46039f\"],[0.2222222222222222,\"#7201a8\"],[0.3333333333333333,\"#9c179e\"],[0.4444444444444444,\"#bd3786\"],[0.5555555555555556,\"#d8576b\"],[0.6666666666666666,\"#ed7953\"],[0.7777777777777778,\"#fb9f3a\"],[0.8888888888888888,\"#fdca26\"],[1.0,\"#f0f921\"]]},\"colorway\":[\"#636efa\",\"#EF553B\",\"#00cc96\",\"#ab63fa\",\"#FFA15A\",\"#19d3f3\",\"#FF6692\",\"#B6E880\",\"#FF97FF\",\"#FECB52\"],\"font\":{\"color\":\"#2a3f5f\"},\"geo\":{\"bgcolor\":\"white\",\"lakecolor\":\"white\",\"landcolor\":\"#E5ECF6\",\"showlakes\":true,\"showland\":true,\"subunitcolor\":\"white\"},\"hoverlabel\":{\"align\":\"left\"},\"hovermode\":\"closest\",\"mapbox\":{\"style\":\"light\"},\"paper_bgcolor\":\"white\",\"plot_bgcolor\":\"#E5ECF6\",\"polar\":{\"angularaxis\":{\"gridcolor\":\"white\",\"linecolor\":\"white\",\"ticks\":\"\"},\"bgcolor\":\"#E5ECF6\",\"radialaxis\":{\"gridcolor\":\"white\",\"linecolor\":\"white\",\"ticks\":\"\"}},\"scene\":{\"xaxis\":{\"backgroundcolor\":\"#E5ECF6\",\"gridcolor\":\"white\",\"gridwidth\":2,\"linecolor\":\"white\",\"showbackground\":true,\"ticks\":\"\",\"zerolinecolor\":\"white\"},\"yaxis\":{\"backgroundcolor\":\"#E5ECF6\",\"gridcolor\":\"white\",\"gridwidth\":2,\"linecolor\":\"white\",\"showbackground\":true,\"ticks\":\"\",\"zerolinecolor\":\"white\"},\"zaxis\":{\"backgroundcolor\":\"#E5ECF6\",\"gridcolor\":\"white\",\"gridwidth\":2,\"linecolor\":\"white\",\"showbackground\":true,\"ticks\":\"\",\"zerolinecolor\":\"white\"}},\"shapedefaults\":{\"line\":{\"color\":\"#2a3f5f\"}},\"ternary\":{\"aaxis\":{\"gridcolor\":\"white\",\"linecolor\":\"white\",\"ticks\":\"\"},\"baxis\":{\"gridcolor\":\"white\",\"linecolor\":\"white\",\"ticks\":\"\"},\"bgcolor\":\"#E5ECF6\",\"caxis\":{\"gridcolor\":\"white\",\"linecolor\":\"white\",\"ticks\":\"\"}},\"title\":{\"x\":0.05},\"xaxis\":{\"automargin\":true,\"gridcolor\":\"white\",\"linecolor\":\"white\",\"ticks\":\"\",\"title\":{\"standoff\":15},\"zerolinecolor\":\"white\",\"zerolinewidth\":2},\"yaxis\":{\"automargin\":true,\"gridcolor\":\"white\",\"linecolor\":\"white\",\"ticks\":\"\",\"title\":{\"standoff\":15},\"zerolinecolor\":\"white\",\"zerolinewidth\":2}}},\"title\":{\"text\":\"countries with active cases\"}},                        {\"responsive\": true}                    ).then(function(){\n",
              "                            \n",
              "var gd = document.getElementById('0f03684f-b3fa-4686-bee6-0f7cdabf9775');\n",
              "var x = new MutationObserver(function (mutations, observer) {{\n",
              "        var display = window.getComputedStyle(gd).display;\n",
              "        if (!display || display === 'none') {{\n",
              "            console.log([gd, 'removed!']);\n",
              "            Plotly.purge(gd);\n",
              "            observer.disconnect();\n",
              "        }}\n",
              "}});\n",
              "\n",
              "// Listen for the removal of the full notebook cells\n",
              "var notebookContainer = gd.closest('#notebook-container');\n",
              "if (notebookContainer) {{\n",
              "    x.observe(notebookContainer, {childList: true});\n",
              "}}\n",
              "\n",
              "// Listen for the clearing of the current output cell\n",
              "var outputEl = gd.closest('.output');\n",
              "if (outputEl) {{\n",
              "    x.observe(outputEl, {childList: true});\n",
              "}}\n",
              "\n",
              "                        })                };                });            </script>        </div>"
            ]
          },
          "metadata": {},
          "output_type": "display_data"
        }
      ]
    },
    {
      "cell_type": "code",
      "metadata": {
        "id": "5aad4944"
      },
      "source": [
        "total_cases=df.groupby('date')['date','confirmed'].sum().reset_index()"
      ],
      "id": "5aad4944",
      "execution_count": null,
      "outputs": []
    },
    {
      "cell_type": "code",
      "metadata": {
        "id": "01068e03",
        "outputId": "944b6d1e-f734-4f07-ba56-c2acf011f759"
      },
      "source": [
        "total_cases.head()"
      ],
      "id": "01068e03",
      "execution_count": null,
      "outputs": [
        {
          "data": {
            "text/html": [
              "<div>\n",
              "<style scoped>\n",
              "    .dataframe tbody tr th:only-of-type {\n",
              "        vertical-align: middle;\n",
              "    }\n",
              "\n",
              "    .dataframe tbody tr th {\n",
              "        vertical-align: top;\n",
              "    }\n",
              "\n",
              "    .dataframe thead th {\n",
              "        text-align: right;\n",
              "    }\n",
              "</style>\n",
              "<table border=\"1\" class=\"dataframe\">\n",
              "  <thead>\n",
              "    <tr style=\"text-align: right;\">\n",
              "      <th></th>\n",
              "      <th>date</th>\n",
              "      <th>confirmed</th>\n",
              "    </tr>\n",
              "  </thead>\n",
              "  <tbody>\n",
              "    <tr>\n",
              "      <th>0</th>\n",
              "      <td>2020-01-22</td>\n",
              "      <td>554.0</td>\n",
              "    </tr>\n",
              "    <tr>\n",
              "      <th>1</th>\n",
              "      <td>2020-01-23</td>\n",
              "      <td>652.0</td>\n",
              "    </tr>\n",
              "    <tr>\n",
              "      <th>2</th>\n",
              "      <td>2020-01-24</td>\n",
              "      <td>939.0</td>\n",
              "    </tr>\n",
              "    <tr>\n",
              "      <th>3</th>\n",
              "      <td>2020-01-25</td>\n",
              "      <td>1432.0</td>\n",
              "    </tr>\n",
              "    <tr>\n",
              "      <th>4</th>\n",
              "      <td>2020-01-26</td>\n",
              "      <td>2113.0</td>\n",
              "    </tr>\n",
              "  </tbody>\n",
              "</table>\n",
              "</div>"
            ],
            "text/plain": [
              "        date  confirmed\n",
              "0 2020-01-22      554.0\n",
              "1 2020-01-23      652.0\n",
              "2 2020-01-24      939.0\n",
              "3 2020-01-25     1432.0\n",
              "4 2020-01-26     2113.0"
            ]
          },
          "execution_count": 45,
          "metadata": {},
          "output_type": "execute_result"
        }
      ]
    },
    {
      "cell_type": "code",
      "metadata": {
        "id": "33c972e5"
      },
      "source": [
        "#ploting for confirmed cases"
      ],
      "id": "33c972e5",
      "execution_count": null,
      "outputs": []
    },
    {
      "cell_type": "code",
      "metadata": {
        "id": "3cdee838",
        "outputId": "692f81bd-7489-4bac-9b55-6b4601688783"
      },
      "source": [
        "plt.figure(figsize=(10,8))\n",
        "plt.xticks(rotation=90,fontsize=10)\n",
        "plt.yticks(rotation=45,fontsize=15)\n",
        "plt.xlabel(\"dates\",fontsize=15)\n",
        "plt.ylabel(\"confirmed cases\")\n",
        "plt.title(\"total confirmed cases\",fontsize=30)\n",
        "ax=sns.pointplot(x=total_cases.date, y=total_cases.confirmed,color='r')\n",
        "\n"
      ],
      "id": "3cdee838",
      "execution_count": null,
      "outputs": [
        {
          "data": {
            "image/png": "[encoded data removed]",
            "text/plain": [
              "<Figure size 720x576 with 1 Axes>"
            ]
          },
          "metadata": {
            "needs_background": "light"
          },
          "output_type": "display_data"
        }
      ]
    },
    {
      "cell_type": "code",
      "metadata": {
        "id": "a544e21a"
      },
      "source": [
        "#top active countries\n",
        "top_active=top.groupby('country')['active'].sum().sort_values(ascending=False).head(20).reset_index()"
      ],
      "id": "a544e21a",
      "execution_count": null,
      "outputs": []
    },
    {
      "cell_type": "code",
      "metadata": {
        "id": "6dc64a31",
        "outputId": "a32353bf-1370-4d87-f413-836ae4d43c75"
      },
      "source": [
        "top_active"
      ],
      "id": "6dc64a31",
      "execution_count": null,
      "outputs": [
        {
          "data": {
            "text/html": [
              "<div>\n",
              "<style scoped>\n",
              "    .dataframe tbody tr th:only-of-type {\n",
              "        vertical-align: middle;\n",
              "    }\n",
              "\n",
              "    .dataframe tbody tr th {\n",
              "        vertical-align: top;\n",
              "    }\n",
              "\n",
              "    .dataframe thead th {\n",
              "        text-align: right;\n",
              "    }\n",
              "</style>\n",
              "<table border=\"1\" class=\"dataframe\">\n",
              "  <thead>\n",
              "    <tr style=\"text-align: right;\">\n",
              "      <th></th>\n",
              "      <th>country</th>\n",
              "      <th>active</th>\n",
              "    </tr>\n",
              "  </thead>\n",
              "  <tbody>\n",
              "    <tr>\n",
              "      <th>0</th>\n",
              "      <td>Italy</td>\n",
              "      <td>46638.0</td>\n",
              "    </tr>\n",
              "    <tr>\n",
              "      <th>1</th>\n",
              "      <td>US</td>\n",
              "      <td>32681.0</td>\n",
              "    </tr>\n",
              "    <tr>\n",
              "      <th>2</th>\n",
              "      <td>Germany</td>\n",
              "      <td>24513.0</td>\n",
              "    </tr>\n",
              "    <tr>\n",
              "      <th>3</th>\n",
              "      <td>Spain</td>\n",
              "      <td>24421.0</td>\n",
              "    </tr>\n",
              "    <tr>\n",
              "      <th>4</th>\n",
              "      <td>France</td>\n",
              "      <td>13170.0</td>\n",
              "    </tr>\n",
              "    <tr>\n",
              "      <th>5</th>\n",
              "      <td>Iran</td>\n",
              "      <td>12022.0</td>\n",
              "    </tr>\n",
              "    <tr>\n",
              "      <th>6</th>\n",
              "      <td>Switzerland</td>\n",
              "      <td>7016.0</td>\n",
              "    </tr>\n",
              "    <tr>\n",
              "      <th>7</th>\n",
              "      <td>South Korea</td>\n",
              "      <td>5884.0</td>\n",
              "    </tr>\n",
              "    <tr>\n",
              "      <th>8</th>\n",
              "      <td>United Kingdom</td>\n",
              "      <td>5392.0</td>\n",
              "    </tr>\n",
              "    <tr>\n",
              "      <th>9</th>\n",
              "      <td>China</td>\n",
              "      <td>5351.0</td>\n",
              "    </tr>\n",
              "    <tr>\n",
              "      <th>10</th>\n",
              "      <td>Netherlands</td>\n",
              "      <td>4034.0</td>\n",
              "    </tr>\n",
              "    <tr>\n",
              "      <th>11</th>\n",
              "      <td>Austria</td>\n",
              "      <td>3219.0</td>\n",
              "    </tr>\n",
              "    <tr>\n",
              "      <th>12</th>\n",
              "      <td>Belgium</td>\n",
              "      <td>3063.0</td>\n",
              "    </tr>\n",
              "    <tr>\n",
              "      <th>13</th>\n",
              "      <td>Norway</td>\n",
              "      <td>2375.0</td>\n",
              "    </tr>\n",
              "    <tr>\n",
              "      <th>14</th>\n",
              "      <td>Sweden</td>\n",
              "      <td>1897.0</td>\n",
              "    </tr>\n",
              "    <tr>\n",
              "      <th>15</th>\n",
              "      <td>Portugal</td>\n",
              "      <td>1581.0</td>\n",
              "    </tr>\n",
              "    <tr>\n",
              "      <th>16</th>\n",
              "      <td>Brazil</td>\n",
              "      <td>1566.0</td>\n",
              "    </tr>\n",
              "    <tr>\n",
              "      <th>17</th>\n",
              "      <td>Denmark</td>\n",
              "      <td>1500.0</td>\n",
              "    </tr>\n",
              "    <tr>\n",
              "      <th>18</th>\n",
              "      <td>Canada</td>\n",
              "      <td>1439.0</td>\n",
              "    </tr>\n",
              "    <tr>\n",
              "      <th>19</th>\n",
              "      <td>Australia</td>\n",
              "      <td>1219.0</td>\n",
              "    </tr>\n",
              "  </tbody>\n",
              "</table>\n",
              "</div>"
            ],
            "text/plain": [
              "           country   active\n",
              "0            Italy  46638.0\n",
              "1               US  32681.0\n",
              "2          Germany  24513.0\n",
              "3            Spain  24421.0\n",
              "4           France  13170.0\n",
              "5             Iran  12022.0\n",
              "6      Switzerland   7016.0\n",
              "7      South Korea   5884.0\n",
              "8   United Kingdom   5392.0\n",
              "9            China   5351.0\n",
              "10     Netherlands   4034.0\n",
              "11         Austria   3219.0\n",
              "12         Belgium   3063.0\n",
              "13          Norway   2375.0\n",
              "14          Sweden   1897.0\n",
              "15        Portugal   1581.0\n",
              "16          Brazil   1566.0\n",
              "17         Denmark   1500.0\n",
              "18          Canada   1439.0\n",
              "19       Australia   1219.0"
            ]
          },
          "execution_count": 61,
          "metadata": {},
          "output_type": "execute_result"
        }
      ]
    },
    {
      "cell_type": "code",
      "metadata": {
        "id": "3996e186",
        "outputId": "d7580249-2cbb-4d5d-902e-d970a2d0bb00"
      },
      "source": [
        "plt.figure(figsize=(15,10))\n",
        "plt.xticks(fontsize=15)\n",
        "plt.yticks(fontsize=15)\n",
        "plt.xlabel(\"total cases\",fontsize=30)\n",
        "plt.ylabel(\"country\",fontsize=30)\n",
        "plt.title(\"top 20 countries having most active cases\",fontsize=25)\n",
        "\n",
        "\n",
        "ax=sns.barplot(x=top_active.active,y=top_active.country)\n",
        "\n"
      ],
      "id": "3996e186",
      "execution_count": null,
      "outputs": [
        {
          "data": {
            "image/png": "[encoded data removed]",
            "text/plain": [
              "<Figure size 1080x720 with 1 Axes>"
            ]
          },
          "metadata": {
            "needs_background": "light"
          },
          "output_type": "display_data"
        }
      ]
    },
    {
      "cell_type": "code",
      "metadata": {
        "id": "4731be8b"
      },
      "source": [
        "#particular countries"
      ],
      "id": "4731be8b",
      "execution_count": null,
      "outputs": []
    },
    {
      "cell_type": "code",
      "metadata": {
        "id": "713fd619",
        "outputId": "d587fdd2-1e3b-4835-c04a-6faf586ba357"
      },
      "source": [
        "china=df[df.country=='China']\n",
        "china"
      ],
      "id": "713fd619",
      "execution_count": null,
      "outputs": [
        {
          "data": {
            "text/html": [
              "<div>\n",
              "<style scoped>\n",
              "    .dataframe tbody tr th:only-of-type {\n",
              "        vertical-align: middle;\n",
              "    }\n",
              "\n",
              "    .dataframe tbody tr th {\n",
              "        vertical-align: top;\n",
              "    }\n",
              "\n",
              "    .dataframe thead th {\n",
              "        text-align: right;\n",
              "    }\n",
              "</style>\n",
              "<table border=\"1\" class=\"dataframe\">\n",
              "  <thead>\n",
              "    <tr style=\"text-align: right;\">\n",
              "      <th></th>\n",
              "      <th>state</th>\n",
              "      <th>country</th>\n",
              "      <th>lat</th>\n",
              "      <th>long</th>\n",
              "      <th>date</th>\n",
              "      <th>confirmed</th>\n",
              "      <th>deaths</th>\n",
              "      <th>recovered</th>\n",
              "      <th>active</th>\n",
              "    </tr>\n",
              "  </thead>\n",
              "  <tbody>\n",
              "    <tr>\n",
              "      <th>154</th>\n",
              "      <td>Hubei</td>\n",
              "      <td>China</td>\n",
              "      <td>30.9756</td>\n",
              "      <td>112.2707</td>\n",
              "      <td>2020-01-22</td>\n",
              "      <td>444.0</td>\n",
              "      <td>17.0</td>\n",
              "      <td>28.0</td>\n",
              "      <td>399.0</td>\n",
              "    </tr>\n",
              "    <tr>\n",
              "      <th>158</th>\n",
              "      <td>Guangdong</td>\n",
              "      <td>China</td>\n",
              "      <td>23.3417</td>\n",
              "      <td>113.4244</td>\n",
              "      <td>2020-01-22</td>\n",
              "      <td>26.0</td>\n",
              "      <td>0.0</td>\n",
              "      <td>0.0</td>\n",
              "      <td>26.0</td>\n",
              "    </tr>\n",
              "    <tr>\n",
              "      <th>159</th>\n",
              "      <td>Henan</td>\n",
              "      <td>China</td>\n",
              "      <td>33.8820</td>\n",
              "      <td>113.6140</td>\n",
              "      <td>2020-01-22</td>\n",
              "      <td>5.0</td>\n",
              "      <td>0.0</td>\n",
              "      <td>0.0</td>\n",
              "      <td>5.0</td>\n",
              "    </tr>\n",
              "    <tr>\n",
              "      <th>160</th>\n",
              "      <td>Zhejiang</td>\n",
              "      <td>China</td>\n",
              "      <td>29.1832</td>\n",
              "      <td>120.0934</td>\n",
              "      <td>2020-01-22</td>\n",
              "      <td>10.0</td>\n",
              "      <td>0.0</td>\n",
              "      <td>0.0</td>\n",
              "      <td>10.0</td>\n",
              "    </tr>\n",
              "    <tr>\n",
              "      <th>161</th>\n",
              "      <td>Hunan</td>\n",
              "      <td>China</td>\n",
              "      <td>27.6104</td>\n",
              "      <td>111.7088</td>\n",
              "      <td>2020-01-22</td>\n",
              "      <td>4.0</td>\n",
              "      <td>0.0</td>\n",
              "      <td>0.0</td>\n",
              "      <td>4.0</td>\n",
              "    </tr>\n",
              "    <tr>\n",
              "      <th>...</th>\n",
              "      <td>...</td>\n",
              "      <td>...</td>\n",
              "      <td>...</td>\n",
              "      <td>...</td>\n",
              "      <td>...</td>\n",
              "      <td>...</td>\n",
              "      <td>...</td>\n",
              "      <td>...</td>\n",
              "      <td>...</td>\n",
              "    </tr>\n",
              "    <tr>\n",
              "      <th>19098</th>\n",
              "      <td>Inner Mongolia</td>\n",
              "      <td>China</td>\n",
              "      <td>44.0935</td>\n",
              "      <td>113.9448</td>\n",
              "      <td>2020-03-23</td>\n",
              "      <td>75.0</td>\n",
              "      <td>1.0</td>\n",
              "      <td>74.0</td>\n",
              "      <td>0.0</td>\n",
              "    </tr>\n",
              "    <tr>\n",
              "      <th>19099</th>\n",
              "      <td>Ningxia</td>\n",
              "      <td>China</td>\n",
              "      <td>37.2692</td>\n",
              "      <td>106.1655</td>\n",
              "      <td>2020-03-23</td>\n",
              "      <td>75.0</td>\n",
              "      <td>0.0</td>\n",
              "      <td>75.0</td>\n",
              "      <td>0.0</td>\n",
              "    </tr>\n",
              "    <tr>\n",
              "      <th>19103</th>\n",
              "      <td>Qinghai</td>\n",
              "      <td>China</td>\n",
              "      <td>35.7452</td>\n",
              "      <td>95.9956</td>\n",
              "      <td>2020-03-23</td>\n",
              "      <td>18.0</td>\n",
              "      <td>0.0</td>\n",
              "      <td>18.0</td>\n",
              "      <td>0.0</td>\n",
              "    </tr>\n",
              "    <tr>\n",
              "      <th>19104</th>\n",
              "      <td>Macau</td>\n",
              "      <td>China</td>\n",
              "      <td>22.1667</td>\n",
              "      <td>113.5500</td>\n",
              "      <td>2020-03-23</td>\n",
              "      <td>24.0</td>\n",
              "      <td>0.0</td>\n",
              "      <td>10.0</td>\n",
              "      <td>14.0</td>\n",
              "    </tr>\n",
              "    <tr>\n",
              "      <th>19112</th>\n",
              "      <td>Tibet</td>\n",
              "      <td>China</td>\n",
              "      <td>31.6927</td>\n",
              "      <td>88.0924</td>\n",
              "      <td>2020-03-23</td>\n",
              "      <td>1.0</td>\n",
              "      <td>0.0</td>\n",
              "      <td>1.0</td>\n",
              "      <td>0.0</td>\n",
              "    </tr>\n",
              "  </tbody>\n",
              "</table>\n",
              "<p>2046 rows × 9 columns</p>\n",
              "</div>"
            ],
            "text/plain": [
              "                state country      lat      long       date  confirmed  \\\n",
              "154             Hubei   China  30.9756  112.2707 2020-01-22      444.0   \n",
              "158         Guangdong   China  23.3417  113.4244 2020-01-22       26.0   \n",
              "159             Henan   China  33.8820  113.6140 2020-01-22        5.0   \n",
              "160          Zhejiang   China  29.1832  120.0934 2020-01-22       10.0   \n",
              "161             Hunan   China  27.6104  111.7088 2020-01-22        4.0   \n",
              "...               ...     ...      ...       ...        ...        ...   \n",
              "19098  Inner Mongolia   China  44.0935  113.9448 2020-03-23       75.0   \n",
              "19099         Ningxia   China  37.2692  106.1655 2020-03-23       75.0   \n",
              "19103         Qinghai   China  35.7452   95.9956 2020-03-23       18.0   \n",
              "19104           Macau   China  22.1667  113.5500 2020-03-23       24.0   \n",
              "19112           Tibet   China  31.6927   88.0924 2020-03-23        1.0   \n",
              "\n",
              "       deaths  recovered  active  \n",
              "154      17.0       28.0   399.0  \n",
              "158       0.0        0.0    26.0  \n",
              "159       0.0        0.0     5.0  \n",
              "160       0.0        0.0    10.0  \n",
              "161       0.0        0.0     4.0  \n",
              "...       ...        ...     ...  \n",
              "19098     1.0       74.0     0.0  \n",
              "19099     0.0       75.0     0.0  \n",
              "19103     0.0       18.0     0.0  \n",
              "19104     0.0       10.0    14.0  \n",
              "19112     0.0        1.0     0.0  \n",
              "\n",
              "[2046 rows x 9 columns]"
            ]
          },
          "execution_count": 66,
          "metadata": {},
          "output_type": "execute_result"
        }
      ]
    },
    {
      "cell_type": "code",
      "metadata": {
        "id": "7fb2572f",
        "outputId": "9c6cd4eb-c9c7-4221-b5d3-df0fd334abb3"
      },
      "source": [
        "china=china.groupby('date')['recovered','deaths','confirmed','active'].sum().reset_index()\n",
        "china.head()"
      ],
      "id": "7fb2572f",
      "execution_count": null,
      "outputs": [
        {
          "data": {
            "text/html": [
              "<div>\n",
              "<style scoped>\n",
              "    .dataframe tbody tr th:only-of-type {\n",
              "        vertical-align: middle;\n",
              "    }\n",
              "\n",
              "    .dataframe tbody tr th {\n",
              "        vertical-align: top;\n",
              "    }\n",
              "\n",
              "    .dataframe thead th {\n",
              "        text-align: right;\n",
              "    }\n",
              "</style>\n",
              "<table border=\"1\" class=\"dataframe\">\n",
              "  <thead>\n",
              "    <tr style=\"text-align: right;\">\n",
              "      <th></th>\n",
              "      <th>date</th>\n",
              "      <th>recovered</th>\n",
              "      <th>deaths</th>\n",
              "      <th>confirmed</th>\n",
              "      <th>active</th>\n",
              "    </tr>\n",
              "  </thead>\n",
              "  <tbody>\n",
              "    <tr>\n",
              "      <th>0</th>\n",
              "      <td>2020-01-22</td>\n",
              "      <td>28.0</td>\n",
              "      <td>17.0</td>\n",
              "      <td>548.0</td>\n",
              "      <td>503.0</td>\n",
              "    </tr>\n",
              "    <tr>\n",
              "      <th>1</th>\n",
              "      <td>2020-01-23</td>\n",
              "      <td>30.0</td>\n",
              "      <td>18.0</td>\n",
              "      <td>643.0</td>\n",
              "      <td>595.0</td>\n",
              "    </tr>\n",
              "    <tr>\n",
              "      <th>2</th>\n",
              "      <td>2020-01-24</td>\n",
              "      <td>36.0</td>\n",
              "      <td>26.0</td>\n",
              "      <td>920.0</td>\n",
              "      <td>858.0</td>\n",
              "    </tr>\n",
              "    <tr>\n",
              "      <th>3</th>\n",
              "      <td>2020-01-25</td>\n",
              "      <td>39.0</td>\n",
              "      <td>42.0</td>\n",
              "      <td>1406.0</td>\n",
              "      <td>1325.0</td>\n",
              "    </tr>\n",
              "    <tr>\n",
              "      <th>4</th>\n",
              "      <td>2020-01-26</td>\n",
              "      <td>49.0</td>\n",
              "      <td>56.0</td>\n",
              "      <td>2075.0</td>\n",
              "      <td>1970.0</td>\n",
              "    </tr>\n",
              "  </tbody>\n",
              "</table>\n",
              "</div>"
            ],
            "text/plain": [
              "        date  recovered  deaths  confirmed  active\n",
              "0 2020-01-22       28.0    17.0      548.0   503.0\n",
              "1 2020-01-23       30.0    18.0      643.0   595.0\n",
              "2 2020-01-24       36.0    26.0      920.0   858.0\n",
              "3 2020-01-25       39.0    42.0     1406.0  1325.0\n",
              "4 2020-01-26       49.0    56.0     2075.0  1970.0"
            ]
          },
          "execution_count": 67,
          "metadata": {},
          "output_type": "execute_result"
        }
      ]
    },
    {
      "cell_type": "code",
      "metadata": {
        "id": "f9ae912b",
        "outputId": "af8b0170-59a7-4da7-aa99-ebea879a7abe"
      },
      "source": [
        "us=df[df.country=='US']\n",
        "\n",
        "us"
      ],
      "id": "f9ae912b",
      "execution_count": null,
      "outputs": [
        {
          "data": {
            "text/html": [
              "<div>\n",
              "<style scoped>\n",
              "    .dataframe tbody tr th:only-of-type {\n",
              "        vertical-align: middle;\n",
              "    }\n",
              "\n",
              "    .dataframe tbody tr th {\n",
              "        vertical-align: top;\n",
              "    }\n",
              "\n",
              "    .dataframe thead th {\n",
              "        text-align: right;\n",
              "    }\n",
              "</style>\n",
              "<table border=\"1\" class=\"dataframe\">\n",
              "  <thead>\n",
              "    <tr style=\"text-align: right;\">\n",
              "      <th></th>\n",
              "      <th>state</th>\n",
              "      <th>country</th>\n",
              "      <th>lat</th>\n",
              "      <th>long</th>\n",
              "      <th>date</th>\n",
              "      <th>confirmed</th>\n",
              "      <th>deaths</th>\n",
              "      <th>recovered</th>\n",
              "      <th>active</th>\n",
              "    </tr>\n",
              "  </thead>\n",
              "  <tbody>\n",
              "    <tr>\n",
              "      <th>98</th>\n",
              "      <td>Washington</td>\n",
              "      <td>US</td>\n",
              "      <td>47.4009</td>\n",
              "      <td>-121.4905</td>\n",
              "      <td>2020-01-22</td>\n",
              "      <td>0.0</td>\n",
              "      <td>0.0</td>\n",
              "      <td>0.0</td>\n",
              "      <td>0.0</td>\n",
              "    </tr>\n",
              "    <tr>\n",
              "      <th>99</th>\n",
              "      <td>New York</td>\n",
              "      <td>US</td>\n",
              "      <td>42.1657</td>\n",
              "      <td>-74.9481</td>\n",
              "      <td>2020-01-22</td>\n",
              "      <td>0.0</td>\n",
              "      <td>0.0</td>\n",
              "      <td>0.0</td>\n",
              "      <td>0.0</td>\n",
              "    </tr>\n",
              "    <tr>\n",
              "      <th>100</th>\n",
              "      <td>California</td>\n",
              "      <td>US</td>\n",
              "      <td>36.1162</td>\n",
              "      <td>-119.6816</td>\n",
              "      <td>2020-01-22</td>\n",
              "      <td>0.0</td>\n",
              "      <td>0.0</td>\n",
              "      <td>0.0</td>\n",
              "      <td>0.0</td>\n",
              "    </tr>\n",
              "    <tr>\n",
              "      <th>101</th>\n",
              "      <td>Massachusetts</td>\n",
              "      <td>US</td>\n",
              "      <td>42.2302</td>\n",
              "      <td>-71.5301</td>\n",
              "      <td>2020-01-22</td>\n",
              "      <td>0.0</td>\n",
              "      <td>0.0</td>\n",
              "      <td>0.0</td>\n",
              "      <td>0.0</td>\n",
              "    </tr>\n",
              "    <tr>\n",
              "      <th>102</th>\n",
              "      <td>Diamond Princess</td>\n",
              "      <td>US</td>\n",
              "      <td>35.4437</td>\n",
              "      <td>139.6380</td>\n",
              "      <td>2020-01-22</td>\n",
              "      <td>0.0</td>\n",
              "      <td>0.0</td>\n",
              "      <td>0.0</td>\n",
              "      <td>0.0</td>\n",
              "    </tr>\n",
              "    <tr>\n",
              "      <th>...</th>\n",
              "      <td>...</td>\n",
              "      <td>...</td>\n",
              "      <td>...</td>\n",
              "      <td>...</td>\n",
              "      <td>...</td>\n",
              "      <td>...</td>\n",
              "      <td>...</td>\n",
              "      <td>...</td>\n",
              "      <td>...</td>\n",
              "    </tr>\n",
              "    <tr>\n",
              "      <th>19136</th>\n",
              "      <td>Puerto Rico</td>\n",
              "      <td>US</td>\n",
              "      <td>18.2208</td>\n",
              "      <td>-66.5901</td>\n",
              "      <td>2020-03-23</td>\n",
              "      <td>23.0</td>\n",
              "      <td>1.0</td>\n",
              "      <td>0.0</td>\n",
              "      <td>22.0</td>\n",
              "    </tr>\n",
              "    <tr>\n",
              "      <th>19150</th>\n",
              "      <td>Guam</td>\n",
              "      <td>US</td>\n",
              "      <td>13.4443</td>\n",
              "      <td>144.7937</td>\n",
              "      <td>2020-03-23</td>\n",
              "      <td>27.0</td>\n",
              "      <td>1.0</td>\n",
              "      <td>0.0</td>\n",
              "      <td>26.0</td>\n",
              "    </tr>\n",
              "    <tr>\n",
              "      <th>19167</th>\n",
              "      <td>Virgin Islands</td>\n",
              "      <td>US</td>\n",
              "      <td>18.3358</td>\n",
              "      <td>-64.8963</td>\n",
              "      <td>2020-03-23</td>\n",
              "      <td>NaN</td>\n",
              "      <td>NaN</td>\n",
              "      <td>NaN</td>\n",
              "      <td>NaN</td>\n",
              "    </tr>\n",
              "    <tr>\n",
              "      <th>19210</th>\n",
              "      <td>United States Virgin Islands</td>\n",
              "      <td>US</td>\n",
              "      <td>18.3358</td>\n",
              "      <td>-64.8963</td>\n",
              "      <td>2020-03-23</td>\n",
              "      <td>6.0</td>\n",
              "      <td>0.0</td>\n",
              "      <td>0.0</td>\n",
              "      <td>6.0</td>\n",
              "    </tr>\n",
              "    <tr>\n",
              "      <th>19211</th>\n",
              "      <td>US</td>\n",
              "      <td>US</td>\n",
              "      <td>37.0902</td>\n",
              "      <td>-95.7129</td>\n",
              "      <td>2020-03-23</td>\n",
              "      <td>1.0</td>\n",
              "      <td>0.0</td>\n",
              "      <td>178.0</td>\n",
              "      <td>-177.0</td>\n",
              "    </tr>\n",
              "  </tbody>\n",
              "</table>\n",
              "<p>3596 rows × 9 columns</p>\n",
              "</div>"
            ],
            "text/plain": [
              "                              state country      lat      long       date  \\\n",
              "98                       Washington      US  47.4009 -121.4905 2020-01-22   \n",
              "99                         New York      US  42.1657  -74.9481 2020-01-22   \n",
              "100                      California      US  36.1162 -119.6816 2020-01-22   \n",
              "101                   Massachusetts      US  42.2302  -71.5301 2020-01-22   \n",
              "102                Diamond Princess      US  35.4437  139.6380 2020-01-22   \n",
              "...                             ...     ...      ...       ...        ...   \n",
              "19136                   Puerto Rico      US  18.2208  -66.5901 2020-03-23   \n",
              "19150                          Guam      US  13.4443  144.7937 2020-03-23   \n",
              "19167                Virgin Islands      US  18.3358  -64.8963 2020-03-23   \n",
              "19210  United States Virgin Islands      US  18.3358  -64.8963 2020-03-23   \n",
              "19211                            US      US  37.0902  -95.7129 2020-03-23   \n",
              "\n",
              "       confirmed  deaths  recovered  active  \n",
              "98           0.0     0.0        0.0     0.0  \n",
              "99           0.0     0.0        0.0     0.0  \n",
              "100          0.0     0.0        0.0     0.0  \n",
              "101          0.0     0.0        0.0     0.0  \n",
              "102          0.0     0.0        0.0     0.0  \n",
              "...          ...     ...        ...     ...  \n",
              "19136       23.0     1.0        0.0    22.0  \n",
              "19150       27.0     1.0        0.0    26.0  \n",
              "19167        NaN     NaN        NaN     NaN  \n",
              "19210        6.0     0.0        0.0     6.0  \n",
              "19211        1.0     0.0      178.0  -177.0  \n",
              "\n",
              "[3596 rows x 9 columns]"
            ]
          },
          "execution_count": 70,
          "metadata": {},
          "output_type": "execute_result"
        }
      ]
    },
    {
      "cell_type": "code",
      "metadata": {
        "id": "ca5abe9e"
      },
      "source": [
        "us=us.iloc[33:].reset_index().drop('index',axis=1)\n"
      ],
      "id": "ca5abe9e",
      "execution_count": null,
      "outputs": []
    },
    {
      "cell_type": "code",
      "metadata": {
        "id": "0d598d66",
        "outputId": "a845de56-6a66-4d08-8a10-d0773b1773b8"
      },
      "source": [
        "us.head(50)"
      ],
      "id": "0d598d66",
      "execution_count": null,
      "outputs": [
        {
          "data": {
            "text/html": [
              "<div>\n",
              "<style scoped>\n",
              "    .dataframe tbody tr th:only-of-type {\n",
              "        vertical-align: middle;\n",
              "    }\n",
              "\n",
              "    .dataframe tbody tr th {\n",
              "        vertical-align: top;\n",
              "    }\n",
              "\n",
              "    .dataframe thead th {\n",
              "        text-align: right;\n",
              "    }\n",
              "</style>\n",
              "<table border=\"1\" class=\"dataframe\">\n",
              "  <thead>\n",
              "    <tr style=\"text-align: right;\">\n",
              "      <th></th>\n",
              "      <th>state</th>\n",
              "      <th>country</th>\n",
              "      <th>lat</th>\n",
              "      <th>long</th>\n",
              "      <th>date</th>\n",
              "      <th>confirmed</th>\n",
              "      <th>deaths</th>\n",
              "      <th>recovered</th>\n",
              "      <th>active</th>\n",
              "    </tr>\n",
              "  </thead>\n",
              "  <tbody>\n",
              "    <tr>\n",
              "      <th>0</th>\n",
              "      <td>Florida</td>\n",
              "      <td>US</td>\n",
              "      <td>27.7663</td>\n",
              "      <td>-81.6868</td>\n",
              "      <td>2020-01-23</td>\n",
              "      <td>0.0</td>\n",
              "      <td>0.0</td>\n",
              "      <td>0.0</td>\n",
              "      <td>0.0</td>\n",
              "    </tr>\n",
              "    <tr>\n",
              "      <th>1</th>\n",
              "      <td>New Jersey</td>\n",
              "      <td>US</td>\n",
              "      <td>40.2989</td>\n",
              "      <td>-74.5210</td>\n",
              "      <td>2020-01-23</td>\n",
              "      <td>0.0</td>\n",
              "      <td>0.0</td>\n",
              "      <td>0.0</td>\n",
              "      <td>0.0</td>\n",
              "    </tr>\n",
              "    <tr>\n",
              "      <th>2</th>\n",
              "      <td>Oregon</td>\n",
              "      <td>US</td>\n",
              "      <td>44.5720</td>\n",
              "      <td>-122.0709</td>\n",
              "      <td>2020-01-23</td>\n",
              "      <td>0.0</td>\n",
              "      <td>0.0</td>\n",
              "      <td>0.0</td>\n",
              "      <td>0.0</td>\n",
              "    </tr>\n",
              "    <tr>\n",
              "      <th>3</th>\n",
              "      <td>Texas</td>\n",
              "      <td>US</td>\n",
              "      <td>31.0545</td>\n",
              "      <td>-97.5635</td>\n",
              "      <td>2020-01-23</td>\n",
              "      <td>0.0</td>\n",
              "      <td>0.0</td>\n",
              "      <td>0.0</td>\n",
              "      <td>0.0</td>\n",
              "    </tr>\n",
              "    <tr>\n",
              "      <th>4</th>\n",
              "      <td>Illinois</td>\n",
              "      <td>US</td>\n",
              "      <td>40.3495</td>\n",
              "      <td>-88.9861</td>\n",
              "      <td>2020-01-23</td>\n",
              "      <td>0.0</td>\n",
              "      <td>0.0</td>\n",
              "      <td>0.0</td>\n",
              "      <td>0.0</td>\n",
              "    </tr>\n",
              "    <tr>\n",
              "      <th>5</th>\n",
              "      <td>Pennsylvania</td>\n",
              "      <td>US</td>\n",
              "      <td>40.5908</td>\n",
              "      <td>-77.2098</td>\n",
              "      <td>2020-01-23</td>\n",
              "      <td>0.0</td>\n",
              "      <td>0.0</td>\n",
              "      <td>0.0</td>\n",
              "      <td>0.0</td>\n",
              "    </tr>\n",
              "    <tr>\n",
              "      <th>6</th>\n",
              "      <td>Iowa</td>\n",
              "      <td>US</td>\n",
              "      <td>42.0115</td>\n",
              "      <td>-93.2105</td>\n",
              "      <td>2020-01-23</td>\n",
              "      <td>0.0</td>\n",
              "      <td>0.0</td>\n",
              "      <td>0.0</td>\n",
              "      <td>0.0</td>\n",
              "    </tr>\n",
              "    <tr>\n",
              "      <th>7</th>\n",
              "      <td>Maryland</td>\n",
              "      <td>US</td>\n",
              "      <td>39.0639</td>\n",
              "      <td>-76.8021</td>\n",
              "      <td>2020-01-23</td>\n",
              "      <td>0.0</td>\n",
              "      <td>0.0</td>\n",
              "      <td>0.0</td>\n",
              "      <td>0.0</td>\n",
              "    </tr>\n",
              "    <tr>\n",
              "      <th>8</th>\n",
              "      <td>North Carolina</td>\n",
              "      <td>US</td>\n",
              "      <td>35.6301</td>\n",
              "      <td>-79.8064</td>\n",
              "      <td>2020-01-23</td>\n",
              "      <td>0.0</td>\n",
              "      <td>0.0</td>\n",
              "      <td>0.0</td>\n",
              "      <td>0.0</td>\n",
              "    </tr>\n",
              "    <tr>\n",
              "      <th>9</th>\n",
              "      <td>South Carolina</td>\n",
              "      <td>US</td>\n",
              "      <td>33.8569</td>\n",
              "      <td>-80.9450</td>\n",
              "      <td>2020-01-23</td>\n",
              "      <td>0.0</td>\n",
              "      <td>0.0</td>\n",
              "      <td>0.0</td>\n",
              "      <td>0.0</td>\n",
              "    </tr>\n",
              "    <tr>\n",
              "      <th>10</th>\n",
              "      <td>Tennessee</td>\n",
              "      <td>US</td>\n",
              "      <td>35.7478</td>\n",
              "      <td>-86.6923</td>\n",
              "      <td>2020-01-23</td>\n",
              "      <td>0.0</td>\n",
              "      <td>0.0</td>\n",
              "      <td>0.0</td>\n",
              "      <td>0.0</td>\n",
              "    </tr>\n",
              "    <tr>\n",
              "      <th>11</th>\n",
              "      <td>Virginia</td>\n",
              "      <td>US</td>\n",
              "      <td>37.7693</td>\n",
              "      <td>-78.1700</td>\n",
              "      <td>2020-01-23</td>\n",
              "      <td>0.0</td>\n",
              "      <td>0.0</td>\n",
              "      <td>0.0</td>\n",
              "      <td>0.0</td>\n",
              "    </tr>\n",
              "    <tr>\n",
              "      <th>12</th>\n",
              "      <td>Arizona</td>\n",
              "      <td>US</td>\n",
              "      <td>33.7298</td>\n",
              "      <td>-111.4312</td>\n",
              "      <td>2020-01-23</td>\n",
              "      <td>0.0</td>\n",
              "      <td>0.0</td>\n",
              "      <td>0.0</td>\n",
              "      <td>0.0</td>\n",
              "    </tr>\n",
              "    <tr>\n",
              "      <th>13</th>\n",
              "      <td>Indiana</td>\n",
              "      <td>US</td>\n",
              "      <td>39.8494</td>\n",
              "      <td>-86.2583</td>\n",
              "      <td>2020-01-23</td>\n",
              "      <td>0.0</td>\n",
              "      <td>0.0</td>\n",
              "      <td>0.0</td>\n",
              "      <td>0.0</td>\n",
              "    </tr>\n",
              "    <tr>\n",
              "      <th>14</th>\n",
              "      <td>Kentucky</td>\n",
              "      <td>US</td>\n",
              "      <td>37.6681</td>\n",
              "      <td>-84.6701</td>\n",
              "      <td>2020-01-23</td>\n",
              "      <td>0.0</td>\n",
              "      <td>0.0</td>\n",
              "      <td>0.0</td>\n",
              "      <td>0.0</td>\n",
              "    </tr>\n",
              "    <tr>\n",
              "      <th>15</th>\n",
              "      <td>District of Columbia</td>\n",
              "      <td>US</td>\n",
              "      <td>38.8974</td>\n",
              "      <td>-77.0268</td>\n",
              "      <td>2020-01-23</td>\n",
              "      <td>0.0</td>\n",
              "      <td>0.0</td>\n",
              "      <td>0.0</td>\n",
              "      <td>0.0</td>\n",
              "    </tr>\n",
              "    <tr>\n",
              "      <th>16</th>\n",
              "      <td>Nevada</td>\n",
              "      <td>US</td>\n",
              "      <td>38.3135</td>\n",
              "      <td>-117.0554</td>\n",
              "      <td>2020-01-23</td>\n",
              "      <td>0.0</td>\n",
              "      <td>0.0</td>\n",
              "      <td>0.0</td>\n",
              "      <td>0.0</td>\n",
              "    </tr>\n",
              "    <tr>\n",
              "      <th>17</th>\n",
              "      <td>New Hampshire</td>\n",
              "      <td>US</td>\n",
              "      <td>43.4525</td>\n",
              "      <td>-71.5639</td>\n",
              "      <td>2020-01-23</td>\n",
              "      <td>0.0</td>\n",
              "      <td>0.0</td>\n",
              "      <td>0.0</td>\n",
              "      <td>0.0</td>\n",
              "    </tr>\n",
              "    <tr>\n",
              "      <th>18</th>\n",
              "      <td>Minnesota</td>\n",
              "      <td>US</td>\n",
              "      <td>45.6945</td>\n",
              "      <td>-93.9002</td>\n",
              "      <td>2020-01-23</td>\n",
              "      <td>0.0</td>\n",
              "      <td>0.0</td>\n",
              "      <td>0.0</td>\n",
              "      <td>0.0</td>\n",
              "    </tr>\n",
              "    <tr>\n",
              "      <th>19</th>\n",
              "      <td>Nebraska</td>\n",
              "      <td>US</td>\n",
              "      <td>41.1254</td>\n",
              "      <td>-98.2681</td>\n",
              "      <td>2020-01-23</td>\n",
              "      <td>0.0</td>\n",
              "      <td>0.0</td>\n",
              "      <td>0.0</td>\n",
              "      <td>0.0</td>\n",
              "    </tr>\n",
              "    <tr>\n",
              "      <th>20</th>\n",
              "      <td>Ohio</td>\n",
              "      <td>US</td>\n",
              "      <td>40.3888</td>\n",
              "      <td>-82.7649</td>\n",
              "      <td>2020-01-23</td>\n",
              "      <td>0.0</td>\n",
              "      <td>0.0</td>\n",
              "      <td>0.0</td>\n",
              "      <td>0.0</td>\n",
              "    </tr>\n",
              "    <tr>\n",
              "      <th>21</th>\n",
              "      <td>Rhode Island</td>\n",
              "      <td>US</td>\n",
              "      <td>41.6809</td>\n",
              "      <td>-71.5118</td>\n",
              "      <td>2020-01-23</td>\n",
              "      <td>0.0</td>\n",
              "      <td>0.0</td>\n",
              "      <td>0.0</td>\n",
              "      <td>0.0</td>\n",
              "    </tr>\n",
              "    <tr>\n",
              "      <th>22</th>\n",
              "      <td>Wisconsin</td>\n",
              "      <td>US</td>\n",
              "      <td>44.2685</td>\n",
              "      <td>-89.6165</td>\n",
              "      <td>2020-01-23</td>\n",
              "      <td>0.0</td>\n",
              "      <td>0.0</td>\n",
              "      <td>0.0</td>\n",
              "      <td>0.0</td>\n",
              "    </tr>\n",
              "    <tr>\n",
              "      <th>23</th>\n",
              "      <td>Connecticut</td>\n",
              "      <td>US</td>\n",
              "      <td>41.5978</td>\n",
              "      <td>-72.7554</td>\n",
              "      <td>2020-01-23</td>\n",
              "      <td>0.0</td>\n",
              "      <td>0.0</td>\n",
              "      <td>0.0</td>\n",
              "      <td>0.0</td>\n",
              "    </tr>\n",
              "    <tr>\n",
              "      <th>24</th>\n",
              "      <td>Hawaii</td>\n",
              "      <td>US</td>\n",
              "      <td>21.0943</td>\n",
              "      <td>-157.4983</td>\n",
              "      <td>2020-01-23</td>\n",
              "      <td>0.0</td>\n",
              "      <td>0.0</td>\n",
              "      <td>0.0</td>\n",
              "      <td>0.0</td>\n",
              "    </tr>\n",
              "    <tr>\n",
              "      <th>25</th>\n",
              "      <td>Oklahoma</td>\n",
              "      <td>US</td>\n",
              "      <td>35.5653</td>\n",
              "      <td>-96.9289</td>\n",
              "      <td>2020-01-23</td>\n",
              "      <td>0.0</td>\n",
              "      <td>0.0</td>\n",
              "      <td>0.0</td>\n",
              "      <td>0.0</td>\n",
              "    </tr>\n",
              "    <tr>\n",
              "      <th>26</th>\n",
              "      <td>Utah</td>\n",
              "      <td>US</td>\n",
              "      <td>40.1500</td>\n",
              "      <td>-111.8624</td>\n",
              "      <td>2020-01-23</td>\n",
              "      <td>0.0</td>\n",
              "      <td>0.0</td>\n",
              "      <td>0.0</td>\n",
              "      <td>0.0</td>\n",
              "    </tr>\n",
              "    <tr>\n",
              "      <th>27</th>\n",
              "      <td>Kansas</td>\n",
              "      <td>US</td>\n",
              "      <td>38.5266</td>\n",
              "      <td>-96.7265</td>\n",
              "      <td>2020-01-23</td>\n",
              "      <td>0.0</td>\n",
              "      <td>0.0</td>\n",
              "      <td>0.0</td>\n",
              "      <td>0.0</td>\n",
              "    </tr>\n",
              "    <tr>\n",
              "      <th>28</th>\n",
              "      <td>Louisiana</td>\n",
              "      <td>US</td>\n",
              "      <td>31.1695</td>\n",
              "      <td>-91.8678</td>\n",
              "      <td>2020-01-23</td>\n",
              "      <td>0.0</td>\n",
              "      <td>0.0</td>\n",
              "      <td>0.0</td>\n",
              "      <td>0.0</td>\n",
              "    </tr>\n",
              "    <tr>\n",
              "      <th>29</th>\n",
              "      <td>Missouri</td>\n",
              "      <td>US</td>\n",
              "      <td>38.4561</td>\n",
              "      <td>-92.2884</td>\n",
              "      <td>2020-01-23</td>\n",
              "      <td>0.0</td>\n",
              "      <td>0.0</td>\n",
              "      <td>0.0</td>\n",
              "      <td>0.0</td>\n",
              "    </tr>\n",
              "    <tr>\n",
              "      <th>30</th>\n",
              "      <td>Vermont</td>\n",
              "      <td>US</td>\n",
              "      <td>44.0459</td>\n",
              "      <td>-72.7107</td>\n",
              "      <td>2020-01-23</td>\n",
              "      <td>0.0</td>\n",
              "      <td>0.0</td>\n",
              "      <td>0.0</td>\n",
              "      <td>0.0</td>\n",
              "    </tr>\n",
              "    <tr>\n",
              "      <th>31</th>\n",
              "      <td>Alaska</td>\n",
              "      <td>US</td>\n",
              "      <td>61.3707</td>\n",
              "      <td>-152.4044</td>\n",
              "      <td>2020-01-23</td>\n",
              "      <td>0.0</td>\n",
              "      <td>0.0</td>\n",
              "      <td>0.0</td>\n",
              "      <td>0.0</td>\n",
              "    </tr>\n",
              "    <tr>\n",
              "      <th>32</th>\n",
              "      <td>Arkansas</td>\n",
              "      <td>US</td>\n",
              "      <td>34.9697</td>\n",
              "      <td>-92.3731</td>\n",
              "      <td>2020-01-23</td>\n",
              "      <td>0.0</td>\n",
              "      <td>0.0</td>\n",
              "      <td>0.0</td>\n",
              "      <td>0.0</td>\n",
              "    </tr>\n",
              "    <tr>\n",
              "      <th>33</th>\n",
              "      <td>Delaware</td>\n",
              "      <td>US</td>\n",
              "      <td>39.3185</td>\n",
              "      <td>-75.5071</td>\n",
              "      <td>2020-01-23</td>\n",
              "      <td>0.0</td>\n",
              "      <td>0.0</td>\n",
              "      <td>0.0</td>\n",
              "      <td>0.0</td>\n",
              "    </tr>\n",
              "    <tr>\n",
              "      <th>34</th>\n",
              "      <td>Idaho</td>\n",
              "      <td>US</td>\n",
              "      <td>44.2405</td>\n",
              "      <td>-114.4788</td>\n",
              "      <td>2020-01-23</td>\n",
              "      <td>0.0</td>\n",
              "      <td>0.0</td>\n",
              "      <td>0.0</td>\n",
              "      <td>0.0</td>\n",
              "    </tr>\n",
              "    <tr>\n",
              "      <th>35</th>\n",
              "      <td>Maine</td>\n",
              "      <td>US</td>\n",
              "      <td>44.6939</td>\n",
              "      <td>-69.3819</td>\n",
              "      <td>2020-01-23</td>\n",
              "      <td>0.0</td>\n",
              "      <td>0.0</td>\n",
              "      <td>0.0</td>\n",
              "      <td>0.0</td>\n",
              "    </tr>\n",
              "    <tr>\n",
              "      <th>36</th>\n",
              "      <td>Michigan</td>\n",
              "      <td>US</td>\n",
              "      <td>43.3266</td>\n",
              "      <td>-84.5361</td>\n",
              "      <td>2020-01-23</td>\n",
              "      <td>0.0</td>\n",
              "      <td>0.0</td>\n",
              "      <td>0.0</td>\n",
              "      <td>0.0</td>\n",
              "    </tr>\n",
              "    <tr>\n",
              "      <th>37</th>\n",
              "      <td>Mississippi</td>\n",
              "      <td>US</td>\n",
              "      <td>32.7416</td>\n",
              "      <td>-89.6787</td>\n",
              "      <td>2020-01-23</td>\n",
              "      <td>0.0</td>\n",
              "      <td>0.0</td>\n",
              "      <td>0.0</td>\n",
              "      <td>0.0</td>\n",
              "    </tr>\n",
              "    <tr>\n",
              "      <th>38</th>\n",
              "      <td>Montana</td>\n",
              "      <td>US</td>\n",
              "      <td>46.9219</td>\n",
              "      <td>-110.4544</td>\n",
              "      <td>2020-01-23</td>\n",
              "      <td>0.0</td>\n",
              "      <td>0.0</td>\n",
              "      <td>0.0</td>\n",
              "      <td>0.0</td>\n",
              "    </tr>\n",
              "    <tr>\n",
              "      <th>39</th>\n",
              "      <td>New Mexico</td>\n",
              "      <td>US</td>\n",
              "      <td>34.8405</td>\n",
              "      <td>-106.2485</td>\n",
              "      <td>2020-01-23</td>\n",
              "      <td>0.0</td>\n",
              "      <td>0.0</td>\n",
              "      <td>0.0</td>\n",
              "      <td>0.0</td>\n",
              "    </tr>\n",
              "    <tr>\n",
              "      <th>40</th>\n",
              "      <td>North Dakota</td>\n",
              "      <td>US</td>\n",
              "      <td>47.5289</td>\n",
              "      <td>-99.7840</td>\n",
              "      <td>2020-01-23</td>\n",
              "      <td>0.0</td>\n",
              "      <td>0.0</td>\n",
              "      <td>0.0</td>\n",
              "      <td>0.0</td>\n",
              "    </tr>\n",
              "    <tr>\n",
              "      <th>41</th>\n",
              "      <td>South Dakota</td>\n",
              "      <td>US</td>\n",
              "      <td>44.2998</td>\n",
              "      <td>-99.4388</td>\n",
              "      <td>2020-01-23</td>\n",
              "      <td>0.0</td>\n",
              "      <td>0.0</td>\n",
              "      <td>0.0</td>\n",
              "      <td>0.0</td>\n",
              "    </tr>\n",
              "    <tr>\n",
              "      <th>42</th>\n",
              "      <td>West Virginia</td>\n",
              "      <td>US</td>\n",
              "      <td>38.4912</td>\n",
              "      <td>-80.9545</td>\n",
              "      <td>2020-01-23</td>\n",
              "      <td>0.0</td>\n",
              "      <td>0.0</td>\n",
              "      <td>0.0</td>\n",
              "      <td>0.0</td>\n",
              "    </tr>\n",
              "    <tr>\n",
              "      <th>43</th>\n",
              "      <td>Wyoming</td>\n",
              "      <td>US</td>\n",
              "      <td>42.7560</td>\n",
              "      <td>-107.3025</td>\n",
              "      <td>2020-01-23</td>\n",
              "      <td>0.0</td>\n",
              "      <td>0.0</td>\n",
              "      <td>0.0</td>\n",
              "      <td>0.0</td>\n",
              "    </tr>\n",
              "    <tr>\n",
              "      <th>44</th>\n",
              "      <td>Alabama</td>\n",
              "      <td>US</td>\n",
              "      <td>32.3182</td>\n",
              "      <td>-86.9023</td>\n",
              "      <td>2020-01-23</td>\n",
              "      <td>0.0</td>\n",
              "      <td>0.0</td>\n",
              "      <td>0.0</td>\n",
              "      <td>0.0</td>\n",
              "    </tr>\n",
              "    <tr>\n",
              "      <th>45</th>\n",
              "      <td>Puerto Rico</td>\n",
              "      <td>US</td>\n",
              "      <td>18.2208</td>\n",
              "      <td>-66.5901</td>\n",
              "      <td>2020-01-23</td>\n",
              "      <td>0.0</td>\n",
              "      <td>0.0</td>\n",
              "      <td>0.0</td>\n",
              "      <td>0.0</td>\n",
              "    </tr>\n",
              "    <tr>\n",
              "      <th>46</th>\n",
              "      <td>Guam</td>\n",
              "      <td>US</td>\n",
              "      <td>13.4443</td>\n",
              "      <td>144.7937</td>\n",
              "      <td>2020-01-23</td>\n",
              "      <td>0.0</td>\n",
              "      <td>0.0</td>\n",
              "      <td>0.0</td>\n",
              "      <td>0.0</td>\n",
              "    </tr>\n",
              "    <tr>\n",
              "      <th>47</th>\n",
              "      <td>Virgin Islands</td>\n",
              "      <td>US</td>\n",
              "      <td>18.3358</td>\n",
              "      <td>-64.8963</td>\n",
              "      <td>2020-01-23</td>\n",
              "      <td>0.0</td>\n",
              "      <td>0.0</td>\n",
              "      <td>0.0</td>\n",
              "      <td>0.0</td>\n",
              "    </tr>\n",
              "    <tr>\n",
              "      <th>48</th>\n",
              "      <td>United States Virgin Islands</td>\n",
              "      <td>US</td>\n",
              "      <td>18.3358</td>\n",
              "      <td>-64.8963</td>\n",
              "      <td>2020-01-23</td>\n",
              "      <td>0.0</td>\n",
              "      <td>0.0</td>\n",
              "      <td>0.0</td>\n",
              "      <td>0.0</td>\n",
              "    </tr>\n",
              "    <tr>\n",
              "      <th>49</th>\n",
              "      <td>US</td>\n",
              "      <td>US</td>\n",
              "      <td>37.0902</td>\n",
              "      <td>-95.7129</td>\n",
              "      <td>2020-01-23</td>\n",
              "      <td>0.0</td>\n",
              "      <td>0.0</td>\n",
              "      <td>0.0</td>\n",
              "      <td>0.0</td>\n",
              "    </tr>\n",
              "  </tbody>\n",
              "</table>\n",
              "</div>"
            ],
            "text/plain": [
              "                           state country      lat      long       date  \\\n",
              "0                        Florida      US  27.7663  -81.6868 2020-01-23   \n",
              "1                     New Jersey      US  40.2989  -74.5210 2020-01-23   \n",
              "2                         Oregon      US  44.5720 -122.0709 2020-01-23   \n",
              "3                          Texas      US  31.0545  -97.5635 2020-01-23   \n",
              "4                       Illinois      US  40.3495  -88.9861 2020-01-23   \n",
              "5                   Pennsylvania      US  40.5908  -77.2098 2020-01-23   \n",
              "6                           Iowa      US  42.0115  -93.2105 2020-01-23   \n",
              "7                       Maryland      US  39.0639  -76.8021 2020-01-23   \n",
              "8                 North Carolina      US  35.6301  -79.8064 2020-01-23   \n",
              "9                 South Carolina      US  33.8569  -80.9450 2020-01-23   \n",
              "10                     Tennessee      US  35.7478  -86.6923 2020-01-23   \n",
              "11                      Virginia      US  37.7693  -78.1700 2020-01-23   \n",
              "12                       Arizona      US  33.7298 -111.4312 2020-01-23   \n",
              "13                       Indiana      US  39.8494  -86.2583 2020-01-23   \n",
              "14                      Kentucky      US  37.6681  -84.6701 2020-01-23   \n",
              "15          District of Columbia      US  38.8974  -77.0268 2020-01-23   \n",
              "16                        Nevada      US  38.3135 -117.0554 2020-01-23   \n",
              "17                 New Hampshire      US  43.4525  -71.5639 2020-01-23   \n",
              "18                     Minnesota      US  45.6945  -93.9002 2020-01-23   \n",
              "19                      Nebraska      US  41.1254  -98.2681 2020-01-23   \n",
              "20                          Ohio      US  40.3888  -82.7649 2020-01-23   \n",
              "21                  Rhode Island      US  41.6809  -71.5118 2020-01-23   \n",
              "22                     Wisconsin      US  44.2685  -89.6165 2020-01-23   \n",
              "23                   Connecticut      US  41.5978  -72.7554 2020-01-23   \n",
              "24                        Hawaii      US  21.0943 -157.4983 2020-01-23   \n",
              "25                      Oklahoma      US  35.5653  -96.9289 2020-01-23   \n",
              "26                          Utah      US  40.1500 -111.8624 2020-01-23   \n",
              "27                        Kansas      US  38.5266  -96.7265 2020-01-23   \n",
              "28                     Louisiana      US  31.1695  -91.8678 2020-01-23   \n",
              "29                      Missouri      US  38.4561  -92.2884 2020-01-23   \n",
              "30                       Vermont      US  44.0459  -72.7107 2020-01-23   \n",
              "31                        Alaska      US  61.3707 -152.4044 2020-01-23   \n",
              "32                      Arkansas      US  34.9697  -92.3731 2020-01-23   \n",
              "33                      Delaware      US  39.3185  -75.5071 2020-01-23   \n",
              "34                         Idaho      US  44.2405 -114.4788 2020-01-23   \n",
              "35                         Maine      US  44.6939  -69.3819 2020-01-23   \n",
              "36                      Michigan      US  43.3266  -84.5361 2020-01-23   \n",
              "37                   Mississippi      US  32.7416  -89.6787 2020-01-23   \n",
              "38                       Montana      US  46.9219 -110.4544 2020-01-23   \n",
              "39                    New Mexico      US  34.8405 -106.2485 2020-01-23   \n",
              "40                  North Dakota      US  47.5289  -99.7840 2020-01-23   \n",
              "41                  South Dakota      US  44.2998  -99.4388 2020-01-23   \n",
              "42                 West Virginia      US  38.4912  -80.9545 2020-01-23   \n",
              "43                       Wyoming      US  42.7560 -107.3025 2020-01-23   \n",
              "44                       Alabama      US  32.3182  -86.9023 2020-01-23   \n",
              "45                   Puerto Rico      US  18.2208  -66.5901 2020-01-23   \n",
              "46                          Guam      US  13.4443  144.7937 2020-01-23   \n",
              "47                Virgin Islands      US  18.3358  -64.8963 2020-01-23   \n",
              "48  United States Virgin Islands      US  18.3358  -64.8963 2020-01-23   \n",
              "49                            US      US  37.0902  -95.7129 2020-01-23   \n",
              "\n",
              "    confirmed  deaths  recovered  active  \n",
              "0         0.0     0.0        0.0     0.0  \n",
              "1         0.0     0.0        0.0     0.0  \n",
              "2         0.0     0.0        0.0     0.0  \n",
              "3         0.0     0.0        0.0     0.0  \n",
              "4         0.0     0.0        0.0     0.0  \n",
              "5         0.0     0.0        0.0     0.0  \n",
              "6         0.0     0.0        0.0     0.0  \n",
              "7         0.0     0.0        0.0     0.0  \n",
              "8         0.0     0.0        0.0     0.0  \n",
              "9         0.0     0.0        0.0     0.0  \n",
              "10        0.0     0.0        0.0     0.0  \n",
              "11        0.0     0.0        0.0     0.0  \n",
              "12        0.0     0.0        0.0     0.0  \n",
              "13        0.0     0.0        0.0     0.0  \n",
              "14        0.0     0.0        0.0     0.0  \n",
              "15        0.0     0.0        0.0     0.0  \n",
              "16        0.0     0.0        0.0     0.0  \n",
              "17        0.0     0.0        0.0     0.0  \n",
              "18        0.0     0.0        0.0     0.0  \n",
              "19        0.0     0.0        0.0     0.0  \n",
              "20        0.0     0.0        0.0     0.0  \n",
              "21        0.0     0.0        0.0     0.0  \n",
              "22        0.0     0.0        0.0     0.0  \n",
              "23        0.0     0.0        0.0     0.0  \n",
              "24        0.0     0.0        0.0     0.0  \n",
              "25        0.0     0.0        0.0     0.0  \n",
              "26        0.0     0.0        0.0     0.0  \n",
              "27        0.0     0.0        0.0     0.0  \n",
              "28        0.0     0.0        0.0     0.0  \n",
              "29        0.0     0.0        0.0     0.0  \n",
              "30        0.0     0.0        0.0     0.0  \n",
              "31        0.0     0.0        0.0     0.0  \n",
              "32        0.0     0.0        0.0     0.0  \n",
              "33        0.0     0.0        0.0     0.0  \n",
              "34        0.0     0.0        0.0     0.0  \n",
              "35        0.0     0.0        0.0     0.0  \n",
              "36        0.0     0.0        0.0     0.0  \n",
              "37        0.0     0.0        0.0     0.0  \n",
              "38        0.0     0.0        0.0     0.0  \n",
              "39        0.0     0.0        0.0     0.0  \n",
              "40        0.0     0.0        0.0     0.0  \n",
              "41        0.0     0.0        0.0     0.0  \n",
              "42        0.0     0.0        0.0     0.0  \n",
              "43        0.0     0.0        0.0     0.0  \n",
              "44        0.0     0.0        0.0     0.0  \n",
              "45        0.0     0.0        0.0     0.0  \n",
              "46        0.0     0.0        0.0     0.0  \n",
              "47        0.0     0.0        0.0     0.0  \n",
              "48        0.0     0.0        0.0     0.0  \n",
              "49        0.0     0.0        0.0     0.0  "
            ]
          },
          "execution_count": 76,
          "metadata": {},
          "output_type": "execute_result"
        }
      ]
    },
    {
      "cell_type": "code",
      "metadata": {
        "id": "cafe68cd"
      },
      "source": [
        "#italy"
      ],
      "id": "cafe68cd",
      "execution_count": null,
      "outputs": []
    },
    {
      "cell_type": "code",
      "metadata": {
        "id": "7139d3e8"
      },
      "source": [
        "italy=df[df.country=='Italy']"
      ],
      "id": "7139d3e8",
      "execution_count": null,
      "outputs": []
    },
    {
      "cell_type": "code",
      "metadata": {
        "id": "0eeb1874",
        "outputId": "1f90c5a4-c7d0-4c5f-c662-cea8ff9368ca"
      },
      "source": [
        "italy=italy.groupby('date')['recovered','deaths','confirmed','active'].sum().reset_index()\n",
        "italy.head(20)"
      ],
      "id": "0eeb1874",
      "execution_count": null,
      "outputs": [
        {
          "data": {
            "text/html": [
              "<div>\n",
              "<style scoped>\n",
              "    .dataframe tbody tr th:only-of-type {\n",
              "        vertical-align: middle;\n",
              "    }\n",
              "\n",
              "    .dataframe tbody tr th {\n",
              "        vertical-align: top;\n",
              "    }\n",
              "\n",
              "    .dataframe thead th {\n",
              "        text-align: right;\n",
              "    }\n",
              "</style>\n",
              "<table border=\"1\" class=\"dataframe\">\n",
              "  <thead>\n",
              "    <tr style=\"text-align: right;\">\n",
              "      <th></th>\n",
              "      <th>date</th>\n",
              "      <th>recovered</th>\n",
              "      <th>deaths</th>\n",
              "      <th>confirmed</th>\n",
              "      <th>active</th>\n",
              "    </tr>\n",
              "  </thead>\n",
              "  <tbody>\n",
              "    <tr>\n",
              "      <th>0</th>\n",
              "      <td>2020-01-22</td>\n",
              "      <td>0.0</td>\n",
              "      <td>0.0</td>\n",
              "      <td>0.0</td>\n",
              "      <td>0.0</td>\n",
              "    </tr>\n",
              "    <tr>\n",
              "      <th>1</th>\n",
              "      <td>2020-01-23</td>\n",
              "      <td>0.0</td>\n",
              "      <td>0.0</td>\n",
              "      <td>0.0</td>\n",
              "      <td>0.0</td>\n",
              "    </tr>\n",
              "    <tr>\n",
              "      <th>2</th>\n",
              "      <td>2020-01-24</td>\n",
              "      <td>0.0</td>\n",
              "      <td>0.0</td>\n",
              "      <td>0.0</td>\n",
              "      <td>0.0</td>\n",
              "    </tr>\n",
              "    <tr>\n",
              "      <th>3</th>\n",
              "      <td>2020-01-25</td>\n",
              "      <td>0.0</td>\n",
              "      <td>0.0</td>\n",
              "      <td>0.0</td>\n",
              "      <td>0.0</td>\n",
              "    </tr>\n",
              "    <tr>\n",
              "      <th>4</th>\n",
              "      <td>2020-01-26</td>\n",
              "      <td>0.0</td>\n",
              "      <td>0.0</td>\n",
              "      <td>0.0</td>\n",
              "      <td>0.0</td>\n",
              "    </tr>\n",
              "    <tr>\n",
              "      <th>5</th>\n",
              "      <td>2020-01-27</td>\n",
              "      <td>0.0</td>\n",
              "      <td>0.0</td>\n",
              "      <td>0.0</td>\n",
              "      <td>0.0</td>\n",
              "    </tr>\n",
              "    <tr>\n",
              "      <th>6</th>\n",
              "      <td>2020-01-28</td>\n",
              "      <td>0.0</td>\n",
              "      <td>0.0</td>\n",
              "      <td>0.0</td>\n",
              "      <td>0.0</td>\n",
              "    </tr>\n",
              "    <tr>\n",
              "      <th>7</th>\n",
              "      <td>2020-01-29</td>\n",
              "      <td>0.0</td>\n",
              "      <td>0.0</td>\n",
              "      <td>0.0</td>\n",
              "      <td>0.0</td>\n",
              "    </tr>\n",
              "    <tr>\n",
              "      <th>8</th>\n",
              "      <td>2020-01-30</td>\n",
              "      <td>0.0</td>\n",
              "      <td>0.0</td>\n",
              "      <td>0.0</td>\n",
              "      <td>0.0</td>\n",
              "    </tr>\n",
              "    <tr>\n",
              "      <th>9</th>\n",
              "      <td>2020-01-31</td>\n",
              "      <td>0.0</td>\n",
              "      <td>0.0</td>\n",
              "      <td>2.0</td>\n",
              "      <td>2.0</td>\n",
              "    </tr>\n",
              "    <tr>\n",
              "      <th>10</th>\n",
              "      <td>2020-02-01</td>\n",
              "      <td>0.0</td>\n",
              "      <td>0.0</td>\n",
              "      <td>2.0</td>\n",
              "      <td>2.0</td>\n",
              "    </tr>\n",
              "    <tr>\n",
              "      <th>11</th>\n",
              "      <td>2020-02-02</td>\n",
              "      <td>0.0</td>\n",
              "      <td>0.0</td>\n",
              "      <td>2.0</td>\n",
              "      <td>2.0</td>\n",
              "    </tr>\n",
              "    <tr>\n",
              "      <th>12</th>\n",
              "      <td>2020-02-03</td>\n",
              "      <td>0.0</td>\n",
              "      <td>0.0</td>\n",
              "      <td>2.0</td>\n",
              "      <td>2.0</td>\n",
              "    </tr>\n",
              "    <tr>\n",
              "      <th>13</th>\n",
              "      <td>2020-02-04</td>\n",
              "      <td>0.0</td>\n",
              "      <td>0.0</td>\n",
              "      <td>2.0</td>\n",
              "      <td>2.0</td>\n",
              "    </tr>\n",
              "    <tr>\n",
              "      <th>14</th>\n",
              "      <td>2020-02-05</td>\n",
              "      <td>0.0</td>\n",
              "      <td>0.0</td>\n",
              "      <td>2.0</td>\n",
              "      <td>2.0</td>\n",
              "    </tr>\n",
              "    <tr>\n",
              "      <th>15</th>\n",
              "      <td>2020-02-06</td>\n",
              "      <td>0.0</td>\n",
              "      <td>0.0</td>\n",
              "      <td>2.0</td>\n",
              "      <td>2.0</td>\n",
              "    </tr>\n",
              "    <tr>\n",
              "      <th>16</th>\n",
              "      <td>2020-02-07</td>\n",
              "      <td>0.0</td>\n",
              "      <td>0.0</td>\n",
              "      <td>3.0</td>\n",
              "      <td>3.0</td>\n",
              "    </tr>\n",
              "    <tr>\n",
              "      <th>17</th>\n",
              "      <td>2020-02-08</td>\n",
              "      <td>0.0</td>\n",
              "      <td>0.0</td>\n",
              "      <td>3.0</td>\n",
              "      <td>3.0</td>\n",
              "    </tr>\n",
              "    <tr>\n",
              "      <th>18</th>\n",
              "      <td>2020-02-09</td>\n",
              "      <td>0.0</td>\n",
              "      <td>0.0</td>\n",
              "      <td>3.0</td>\n",
              "      <td>3.0</td>\n",
              "    </tr>\n",
              "    <tr>\n",
              "      <th>19</th>\n",
              "      <td>2020-02-10</td>\n",
              "      <td>0.0</td>\n",
              "      <td>0.0</td>\n",
              "      <td>3.0</td>\n",
              "      <td>3.0</td>\n",
              "    </tr>\n",
              "  </tbody>\n",
              "</table>\n",
              "</div>"
            ],
            "text/plain": [
              "         date  recovered  deaths  confirmed  active\n",
              "0  2020-01-22        0.0     0.0        0.0     0.0\n",
              "1  2020-01-23        0.0     0.0        0.0     0.0\n",
              "2  2020-01-24        0.0     0.0        0.0     0.0\n",
              "3  2020-01-25        0.0     0.0        0.0     0.0\n",
              "4  2020-01-26        0.0     0.0        0.0     0.0\n",
              "5  2020-01-27        0.0     0.0        0.0     0.0\n",
              "6  2020-01-28        0.0     0.0        0.0     0.0\n",
              "7  2020-01-29        0.0     0.0        0.0     0.0\n",
              "8  2020-01-30        0.0     0.0        0.0     0.0\n",
              "9  2020-01-31        0.0     0.0        2.0     2.0\n",
              "10 2020-02-01        0.0     0.0        2.0     2.0\n",
              "11 2020-02-02        0.0     0.0        2.0     2.0\n",
              "12 2020-02-03        0.0     0.0        2.0     2.0\n",
              "13 2020-02-04        0.0     0.0        2.0     2.0\n",
              "14 2020-02-05        0.0     0.0        2.0     2.0\n",
              "15 2020-02-06        0.0     0.0        2.0     2.0\n",
              "16 2020-02-07        0.0     0.0        3.0     3.0\n",
              "17 2020-02-08        0.0     0.0        3.0     3.0\n",
              "18 2020-02-09        0.0     0.0        3.0     3.0\n",
              "19 2020-02-10        0.0     0.0        3.0     3.0"
            ]
          },
          "execution_count": 84,
          "metadata": {},
          "output_type": "execute_result"
        }
      ]
    },
    {
      "cell_type": "code",
      "metadata": {
        "id": "b02095f6"
      },
      "source": [
        "italy=italy.iloc[9:].reset_index().drop('index',axis=1)"
      ],
      "id": "b02095f6",
      "execution_count": null,
      "outputs": []
    },
    {
      "cell_type": "code",
      "metadata": {
        "id": "af62d676",
        "outputId": "ed3e892d-3c18-4f52-84b5-9a2acce0563d"
      },
      "source": [
        "italy.head()"
      ],
      "id": "af62d676",
      "execution_count": null,
      "outputs": [
        {
          "data": {
            "text/html": [
              "<div>\n",
              "<style scoped>\n",
              "    .dataframe tbody tr th:only-of-type {\n",
              "        vertical-align: middle;\n",
              "    }\n",
              "\n",
              "    .dataframe tbody tr th {\n",
              "        vertical-align: top;\n",
              "    }\n",
              "\n",
              "    .dataframe thead th {\n",
              "        text-align: right;\n",
              "    }\n",
              "</style>\n",
              "<table border=\"1\" class=\"dataframe\">\n",
              "  <thead>\n",
              "    <tr style=\"text-align: right;\">\n",
              "      <th></th>\n",
              "      <th>date</th>\n",
              "      <th>recovered</th>\n",
              "      <th>deaths</th>\n",
              "      <th>confirmed</th>\n",
              "      <th>active</th>\n",
              "    </tr>\n",
              "  </thead>\n",
              "  <tbody>\n",
              "    <tr>\n",
              "      <th>0</th>\n",
              "      <td>2020-01-31</td>\n",
              "      <td>0.0</td>\n",
              "      <td>0.0</td>\n",
              "      <td>2.0</td>\n",
              "      <td>2.0</td>\n",
              "    </tr>\n",
              "    <tr>\n",
              "      <th>1</th>\n",
              "      <td>2020-02-01</td>\n",
              "      <td>0.0</td>\n",
              "      <td>0.0</td>\n",
              "      <td>2.0</td>\n",
              "      <td>2.0</td>\n",
              "    </tr>\n",
              "    <tr>\n",
              "      <th>2</th>\n",
              "      <td>2020-02-02</td>\n",
              "      <td>0.0</td>\n",
              "      <td>0.0</td>\n",
              "      <td>2.0</td>\n",
              "      <td>2.0</td>\n",
              "    </tr>\n",
              "    <tr>\n",
              "      <th>3</th>\n",
              "      <td>2020-02-03</td>\n",
              "      <td>0.0</td>\n",
              "      <td>0.0</td>\n",
              "      <td>2.0</td>\n",
              "      <td>2.0</td>\n",
              "    </tr>\n",
              "    <tr>\n",
              "      <th>4</th>\n",
              "      <td>2020-02-04</td>\n",
              "      <td>0.0</td>\n",
              "      <td>0.0</td>\n",
              "      <td>2.0</td>\n",
              "      <td>2.0</td>\n",
              "    </tr>\n",
              "  </tbody>\n",
              "</table>\n",
              "</div>"
            ],
            "text/plain": [
              "        date  recovered  deaths  confirmed  active\n",
              "0 2020-01-31        0.0     0.0        2.0     2.0\n",
              "1 2020-02-01        0.0     0.0        2.0     2.0\n",
              "2 2020-02-02        0.0     0.0        2.0     2.0\n",
              "3 2020-02-03        0.0     0.0        2.0     2.0\n",
              "4 2020-02-04        0.0     0.0        2.0     2.0"
            ]
          },
          "execution_count": 87,
          "metadata": {},
          "output_type": "execute_result"
        }
      ]
    },
    {
      "cell_type": "code",
      "metadata": {
        "id": "a0cd8471"
      },
      "source": [
        "india=df[df.country=='India']"
      ],
      "id": "a0cd8471",
      "execution_count": null,
      "outputs": []
    },
    {
      "cell_type": "code",
      "metadata": {
        "id": "9e6efd29",
        "outputId": "57b1726e-edbb-49ff-fe13-7311438b86e1"
      },
      "source": [
        "india"
      ],
      "id": "9e6efd29",
      "execution_count": null,
      "outputs": [
        {
          "data": {
            "text/html": [
              "<div>\n",
              "<style scoped>\n",
              "    .dataframe tbody tr th:only-of-type {\n",
              "        vertical-align: middle;\n",
              "    }\n",
              "\n",
              "    .dataframe tbody tr th {\n",
              "        vertical-align: top;\n",
              "    }\n",
              "\n",
              "    .dataframe thead th {\n",
              "        text-align: right;\n",
              "    }\n",
              "</style>\n",
              "<table border=\"1\" class=\"dataframe\">\n",
              "  <thead>\n",
              "    <tr style=\"text-align: right;\">\n",
              "      <th></th>\n",
              "      <th>state</th>\n",
              "      <th>country</th>\n",
              "      <th>lat</th>\n",
              "      <th>long</th>\n",
              "      <th>date</th>\n",
              "      <th>confirmed</th>\n",
              "      <th>deaths</th>\n",
              "      <th>recovered</th>\n",
              "      <th>active</th>\n",
              "    </tr>\n",
              "  </thead>\n",
              "  <tbody>\n",
              "    <tr>\n",
              "      <th>15</th>\n",
              "      <td>NaN</td>\n",
              "      <td>India</td>\n",
              "      <td>21.0</td>\n",
              "      <td>78.0</td>\n",
              "      <td>2020-01-22</td>\n",
              "      <td>0.0</td>\n",
              "      <td>0.0</td>\n",
              "      <td>0.0</td>\n",
              "      <td>0.0</td>\n",
              "    </tr>\n",
              "    <tr>\n",
              "      <th>325</th>\n",
              "      <td>NaN</td>\n",
              "      <td>India</td>\n",
              "      <td>21.0</td>\n",
              "      <td>78.0</td>\n",
              "      <td>2020-01-23</td>\n",
              "      <td>0.0</td>\n",
              "      <td>0.0</td>\n",
              "      <td>0.0</td>\n",
              "      <td>0.0</td>\n",
              "    </tr>\n",
              "    <tr>\n",
              "      <th>635</th>\n",
              "      <td>NaN</td>\n",
              "      <td>India</td>\n",
              "      <td>21.0</td>\n",
              "      <td>78.0</td>\n",
              "      <td>2020-01-24</td>\n",
              "      <td>0.0</td>\n",
              "      <td>0.0</td>\n",
              "      <td>0.0</td>\n",
              "      <td>0.0</td>\n",
              "    </tr>\n",
              "    <tr>\n",
              "      <th>945</th>\n",
              "      <td>NaN</td>\n",
              "      <td>India</td>\n",
              "      <td>21.0</td>\n",
              "      <td>78.0</td>\n",
              "      <td>2020-01-25</td>\n",
              "      <td>0.0</td>\n",
              "      <td>0.0</td>\n",
              "      <td>0.0</td>\n",
              "      <td>0.0</td>\n",
              "    </tr>\n",
              "    <tr>\n",
              "      <th>1255</th>\n",
              "      <td>NaN</td>\n",
              "      <td>India</td>\n",
              "      <td>21.0</td>\n",
              "      <td>78.0</td>\n",
              "      <td>2020-01-26</td>\n",
              "      <td>0.0</td>\n",
              "      <td>0.0</td>\n",
              "      <td>0.0</td>\n",
              "      <td>0.0</td>\n",
              "    </tr>\n",
              "    <tr>\n",
              "      <th>...</th>\n",
              "      <td>...</td>\n",
              "      <td>...</td>\n",
              "      <td>...</td>\n",
              "      <td>...</td>\n",
              "      <td>...</td>\n",
              "      <td>...</td>\n",
              "      <td>...</td>\n",
              "      <td>...</td>\n",
              "      <td>...</td>\n",
              "    </tr>\n",
              "    <tr>\n",
              "      <th>17685</th>\n",
              "      <td>NaN</td>\n",
              "      <td>India</td>\n",
              "      <td>21.0</td>\n",
              "      <td>78.0</td>\n",
              "      <td>2020-03-19</td>\n",
              "      <td>194.0</td>\n",
              "      <td>4.0</td>\n",
              "      <td>15.0</td>\n",
              "      <td>175.0</td>\n",
              "    </tr>\n",
              "    <tr>\n",
              "      <th>17995</th>\n",
              "      <td>NaN</td>\n",
              "      <td>India</td>\n",
              "      <td>21.0</td>\n",
              "      <td>78.0</td>\n",
              "      <td>2020-03-20</td>\n",
              "      <td>244.0</td>\n",
              "      <td>5.0</td>\n",
              "      <td>20.0</td>\n",
              "      <td>219.0</td>\n",
              "    </tr>\n",
              "    <tr>\n",
              "      <th>18305</th>\n",
              "      <td>NaN</td>\n",
              "      <td>India</td>\n",
              "      <td>21.0</td>\n",
              "      <td>78.0</td>\n",
              "      <td>2020-03-21</td>\n",
              "      <td>330.0</td>\n",
              "      <td>4.0</td>\n",
              "      <td>23.0</td>\n",
              "      <td>303.0</td>\n",
              "    </tr>\n",
              "    <tr>\n",
              "      <th>18615</th>\n",
              "      <td>NaN</td>\n",
              "      <td>India</td>\n",
              "      <td>21.0</td>\n",
              "      <td>78.0</td>\n",
              "      <td>2020-03-22</td>\n",
              "      <td>396.0</td>\n",
              "      <td>7.0</td>\n",
              "      <td>27.0</td>\n",
              "      <td>362.0</td>\n",
              "    </tr>\n",
              "    <tr>\n",
              "      <th>18925</th>\n",
              "      <td>NaN</td>\n",
              "      <td>India</td>\n",
              "      <td>21.0</td>\n",
              "      <td>78.0</td>\n",
              "      <td>2020-03-23</td>\n",
              "      <td>396.0</td>\n",
              "      <td>7.0</td>\n",
              "      <td>27.0</td>\n",
              "      <td>362.0</td>\n",
              "    </tr>\n",
              "  </tbody>\n",
              "</table>\n",
              "<p>62 rows × 9 columns</p>\n",
              "</div>"
            ],
            "text/plain": [
              "      state country   lat  long       date  confirmed  deaths  recovered  \\\n",
              "15      NaN   India  21.0  78.0 2020-01-22        0.0     0.0        0.0   \n",
              "325     NaN   India  21.0  78.0 2020-01-23        0.0     0.0        0.0   \n",
              "635     NaN   India  21.0  78.0 2020-01-24        0.0     0.0        0.0   \n",
              "945     NaN   India  21.0  78.0 2020-01-25        0.0     0.0        0.0   \n",
              "1255    NaN   India  21.0  78.0 2020-01-26        0.0     0.0        0.0   \n",
              "...     ...     ...   ...   ...        ...        ...     ...        ...   \n",
              "17685   NaN   India  21.0  78.0 2020-03-19      194.0     4.0       15.0   \n",
              "17995   NaN   India  21.0  78.0 2020-03-20      244.0     5.0       20.0   \n",
              "18305   NaN   India  21.0  78.0 2020-03-21      330.0     4.0       23.0   \n",
              "18615   NaN   India  21.0  78.0 2020-03-22      396.0     7.0       27.0   \n",
              "18925   NaN   India  21.0  78.0 2020-03-23      396.0     7.0       27.0   \n",
              "\n",
              "       active  \n",
              "15        0.0  \n",
              "325       0.0  \n",
              "635       0.0  \n",
              "945       0.0  \n",
              "1255      0.0  \n",
              "...       ...  \n",
              "17685   175.0  \n",
              "17995   219.0  \n",
              "18305   303.0  \n",
              "18615   362.0  \n",
              "18925   362.0  \n",
              "\n",
              "[62 rows x 9 columns]"
            ]
          },
          "execution_count": 89,
          "metadata": {},
          "output_type": "execute_result"
        }
      ]
    },
    {
      "cell_type": "code",
      "metadata": {
        "id": "b5b3980b"
      },
      "source": [
        "india=india.groupby('date')['recovered','deaths','confirmed','active'].sum().reset_index()"
      ],
      "id": "b5b3980b",
      "execution_count": null,
      "outputs": []
    },
    {
      "cell_type": "code",
      "metadata": {
        "id": "1c8bcf0f",
        "outputId": "1de384fd-5102-4e27-f13e-372530b0f117"
      },
      "source": [
        "india.head(10)"
      ],
      "id": "1c8bcf0f",
      "execution_count": null,
      "outputs": [
        {
          "data": {
            "text/html": [
              "<div>\n",
              "<style scoped>\n",
              "    .dataframe tbody tr th:only-of-type {\n",
              "        vertical-align: middle;\n",
              "    }\n",
              "\n",
              "    .dataframe tbody tr th {\n",
              "        vertical-align: top;\n",
              "    }\n",
              "\n",
              "    .dataframe thead th {\n",
              "        text-align: right;\n",
              "    }\n",
              "</style>\n",
              "<table border=\"1\" class=\"dataframe\">\n",
              "  <thead>\n",
              "    <tr style=\"text-align: right;\">\n",
              "      <th></th>\n",
              "      <th>date</th>\n",
              "      <th>recovered</th>\n",
              "      <th>deaths</th>\n",
              "      <th>confirmed</th>\n",
              "      <th>active</th>\n",
              "    </tr>\n",
              "  </thead>\n",
              "  <tbody>\n",
              "    <tr>\n",
              "      <th>0</th>\n",
              "      <td>2020-01-22</td>\n",
              "      <td>0.0</td>\n",
              "      <td>0.0</td>\n",
              "      <td>0.0</td>\n",
              "      <td>0.0</td>\n",
              "    </tr>\n",
              "    <tr>\n",
              "      <th>1</th>\n",
              "      <td>2020-01-23</td>\n",
              "      <td>0.0</td>\n",
              "      <td>0.0</td>\n",
              "      <td>0.0</td>\n",
              "      <td>0.0</td>\n",
              "    </tr>\n",
              "    <tr>\n",
              "      <th>2</th>\n",
              "      <td>2020-01-24</td>\n",
              "      <td>0.0</td>\n",
              "      <td>0.0</td>\n",
              "      <td>0.0</td>\n",
              "      <td>0.0</td>\n",
              "    </tr>\n",
              "    <tr>\n",
              "      <th>3</th>\n",
              "      <td>2020-01-25</td>\n",
              "      <td>0.0</td>\n",
              "      <td>0.0</td>\n",
              "      <td>0.0</td>\n",
              "      <td>0.0</td>\n",
              "    </tr>\n",
              "    <tr>\n",
              "      <th>4</th>\n",
              "      <td>2020-01-26</td>\n",
              "      <td>0.0</td>\n",
              "      <td>0.0</td>\n",
              "      <td>0.0</td>\n",
              "      <td>0.0</td>\n",
              "    </tr>\n",
              "    <tr>\n",
              "      <th>5</th>\n",
              "      <td>2020-01-27</td>\n",
              "      <td>0.0</td>\n",
              "      <td>0.0</td>\n",
              "      <td>0.0</td>\n",
              "      <td>0.0</td>\n",
              "    </tr>\n",
              "    <tr>\n",
              "      <th>6</th>\n",
              "      <td>2020-01-28</td>\n",
              "      <td>0.0</td>\n",
              "      <td>0.0</td>\n",
              "      <td>0.0</td>\n",
              "      <td>0.0</td>\n",
              "    </tr>\n",
              "    <tr>\n",
              "      <th>7</th>\n",
              "      <td>2020-01-29</td>\n",
              "      <td>0.0</td>\n",
              "      <td>0.0</td>\n",
              "      <td>0.0</td>\n",
              "      <td>0.0</td>\n",
              "    </tr>\n",
              "    <tr>\n",
              "      <th>8</th>\n",
              "      <td>2020-01-30</td>\n",
              "      <td>0.0</td>\n",
              "      <td>0.0</td>\n",
              "      <td>1.0</td>\n",
              "      <td>1.0</td>\n",
              "    </tr>\n",
              "    <tr>\n",
              "      <th>9</th>\n",
              "      <td>2020-01-31</td>\n",
              "      <td>0.0</td>\n",
              "      <td>0.0</td>\n",
              "      <td>1.0</td>\n",
              "      <td>1.0</td>\n",
              "    </tr>\n",
              "  </tbody>\n",
              "</table>\n",
              "</div>"
            ],
            "text/plain": [
              "        date  recovered  deaths  confirmed  active\n",
              "0 2020-01-22        0.0     0.0        0.0     0.0\n",
              "1 2020-01-23        0.0     0.0        0.0     0.0\n",
              "2 2020-01-24        0.0     0.0        0.0     0.0\n",
              "3 2020-01-25        0.0     0.0        0.0     0.0\n",
              "4 2020-01-26        0.0     0.0        0.0     0.0\n",
              "5 2020-01-27        0.0     0.0        0.0     0.0\n",
              "6 2020-01-28        0.0     0.0        0.0     0.0\n",
              "7 2020-01-29        0.0     0.0        0.0     0.0\n",
              "8 2020-01-30        0.0     0.0        1.0     1.0\n",
              "9 2020-01-31        0.0     0.0        1.0     1.0"
            ]
          },
          "execution_count": 91,
          "metadata": {},
          "output_type": "execute_result"
        }
      ]
    },
    {
      "cell_type": "code",
      "metadata": {
        "id": "0e1d14e5"
      },
      "source": [
        "india=india.iloc[8:].reset_index().drop('index',axis=1)"
      ],
      "id": "0e1d14e5",
      "execution_count": null,
      "outputs": []
    },
    {
      "cell_type": "code",
      "metadata": {
        "id": "3de96108",
        "outputId": "201dbb3b-7fdb-4bda-c6a3-90ee368ae146"
      },
      "source": [
        "india.head()"
      ],
      "id": "3de96108",
      "execution_count": null,
      "outputs": [
        {
          "data": {
            "text/html": [
              "<div>\n",
              "<style scoped>\n",
              "    .dataframe tbody tr th:only-of-type {\n",
              "        vertical-align: middle;\n",
              "    }\n",
              "\n",
              "    .dataframe tbody tr th {\n",
              "        vertical-align: top;\n",
              "    }\n",
              "\n",
              "    .dataframe thead th {\n",
              "        text-align: right;\n",
              "    }\n",
              "</style>\n",
              "<table border=\"1\" class=\"dataframe\">\n",
              "  <thead>\n",
              "    <tr style=\"text-align: right;\">\n",
              "      <th></th>\n",
              "      <th>date</th>\n",
              "      <th>recovered</th>\n",
              "      <th>deaths</th>\n",
              "      <th>confirmed</th>\n",
              "      <th>active</th>\n",
              "    </tr>\n",
              "  </thead>\n",
              "  <tbody>\n",
              "    <tr>\n",
              "      <th>0</th>\n",
              "      <td>2020-01-30</td>\n",
              "      <td>0.0</td>\n",
              "      <td>0.0</td>\n",
              "      <td>1.0</td>\n",
              "      <td>1.0</td>\n",
              "    </tr>\n",
              "    <tr>\n",
              "      <th>1</th>\n",
              "      <td>2020-01-31</td>\n",
              "      <td>0.0</td>\n",
              "      <td>0.0</td>\n",
              "      <td>1.0</td>\n",
              "      <td>1.0</td>\n",
              "    </tr>\n",
              "    <tr>\n",
              "      <th>2</th>\n",
              "      <td>2020-02-01</td>\n",
              "      <td>0.0</td>\n",
              "      <td>0.0</td>\n",
              "      <td>1.0</td>\n",
              "      <td>1.0</td>\n",
              "    </tr>\n",
              "    <tr>\n",
              "      <th>3</th>\n",
              "      <td>2020-02-02</td>\n",
              "      <td>0.0</td>\n",
              "      <td>0.0</td>\n",
              "      <td>2.0</td>\n",
              "      <td>2.0</td>\n",
              "    </tr>\n",
              "    <tr>\n",
              "      <th>4</th>\n",
              "      <td>2020-02-03</td>\n",
              "      <td>0.0</td>\n",
              "      <td>0.0</td>\n",
              "      <td>3.0</td>\n",
              "      <td>3.0</td>\n",
              "    </tr>\n",
              "  </tbody>\n",
              "</table>\n",
              "</div>"
            ],
            "text/plain": [
              "        date  recovered  deaths  confirmed  active\n",
              "0 2020-01-30        0.0     0.0        1.0     1.0\n",
              "1 2020-01-31        0.0     0.0        1.0     1.0\n",
              "2 2020-02-01        0.0     0.0        1.0     1.0\n",
              "3 2020-02-02        0.0     0.0        2.0     2.0\n",
              "4 2020-02-03        0.0     0.0        3.0     3.0"
            ]
          },
          "execution_count": 93,
          "metadata": {},
          "output_type": "execute_result"
        }
      ]
    },
    {
      "cell_type": "code",
      "metadata": {
        "id": "eeb5c9f6",
        "outputId": "69079b8e-7861-4965-b722-a4ca8767446e"
      },
      "source": [
        "plt.figure(figsize=(15,10))\n",
        "sns.pointplot(china.index,china.confirmed,color='red')\n",
        "sns.pointplot(us.index,us.confirmed,color='green')\n",
        "sns.pointplot(italy.index,italy.confirmed,color='blue')\n",
        "sns.pointplot(india.index,india.confirmed,color='orange')\n",
        "plt.title(\"confirmed cases\")\n",
        "plt.xlabel(\"number of days\")\n",
        "plt.ylabel(\"confirmed cases\")\n",
        "plt.show()"
      ],
      "id": "eeb5c9f6",
      "execution_count": null,
      "outputs": [
        {
          "data": {
            "image/png": "[encoded data removed]",
            "text/plain": [
              "<Figure size 1080x720 with 1 Axes>"
            ]
          },
          "metadata": {
            "needs_background": "light"
          },
          "output_type": "display_data"
        }
      ]
    },
    {
      "cell_type": "code",
      "metadata": {
        "id": "8e2d2ad2",
        "outputId": "4671d0fa-c232-41d6-d171-9ece2363a01c"
      },
      "source": [
        "plt.figure(figsize=(15,10))\n",
        "sns.pointplot(china.index,china.recovered,color='red')\n",
        "sns.pointplot(us.index,us.recovered,color='green')\n",
        "sns.pointplot(italy.index,italy.recovered,color='blue')\n",
        "sns.pointplot(india.index,india.recovered,color='orange')\n",
        "plt.title(\"recovered cases\")\n",
        "plt.xlabel(\"number of days\")\n",
        "plt.ylabel(\"recovered cases\")\n",
        "plt.show()"
      ],
      "id": "8e2d2ad2",
      "execution_count": null,
      "outputs": [
        {
          "data": {
            "image/png": "[encoded data removed]",
            "text/plain": [
              "<Figure size 1080x720 with 1 Axes>"
            ]
          },
          "metadata": {
            "needs_background": "light"
          },
          "output_type": "display_data"
        }
      ]
    },
    {
      "cell_type": "code",
      "metadata": {
        "id": "b82b5e83",
        "outputId": "bc626267-1f48-4759-c98e-82f14d7259fb"
      },
      "source": [
        "plt.figure(figsize=(15,10))\n",
        "sns.pointplot(china.index,china.deaths,color='red')\n",
        "sns.pointplot(us.index,us.deaths,color='green')\n",
        "sns.pointplot(italy.index,italy.deaths,color='blue')\n",
        "sns.pointplot(india.index,india.deaths,color='orange')\n",
        "plt.title(\"deaths cases\")\n",
        "plt.xlabel(\"number of days\")\n",
        "plt.ylabel(\"deaths cases\")\n",
        "plt.show()"
      ],
      "id": "b82b5e83",
      "execution_count": null,
      "outputs": [
        {
          "data": {
            "image/png": "[encoded data removed]",
            "text/plain": [
              "<Figure size 1080x720 with 1 Axes>"
            ]
          },
          "metadata": {
            "needs_background": "light"
          },
          "output_type": "display_data"
        }
      ]
    },
    {
      "cell_type": "code",
      "metadata": {
        "id": "3e909f40"
      },
      "source": [
        "#only for Indian states"
      ],
      "id": "3e909f40",
      "execution_count": null,
      "outputs": []
    },
    {
      "cell_type": "code",
      "metadata": {
        "id": "ffb4cb9b"
      },
      "source": [
        "df_india=pd.read_excel('covid_19_india.xlsx')"
      ],
      "id": "ffb4cb9b",
      "execution_count": null,
      "outputs": []
    },
    {
      "cell_type": "code",
      "metadata": {
        "id": "9fc38370",
        "outputId": "c9839786-67da-45d7-fa99-21234b40973e"
      },
      "source": [
        "df_india.head()"
      ],
      "id": "9fc38370",
      "execution_count": null,
      "outputs": [
        {
          "data": {
            "text/html": [
              "<div>\n",
              "<style scoped>\n",
              "    .dataframe tbody tr th:only-of-type {\n",
              "        vertical-align: middle;\n",
              "    }\n",
              "\n",
              "    .dataframe tbody tr th {\n",
              "        vertical-align: top;\n",
              "    }\n",
              "\n",
              "    .dataframe thead th {\n",
              "        text-align: right;\n",
              "    }\n",
              "</style>\n",
              "<table border=\"1\" class=\"dataframe\">\n",
              "  <thead>\n",
              "    <tr style=\"text-align: right;\">\n",
              "      <th></th>\n",
              "      <th>S. No.</th>\n",
              "      <th>Name of State / UT</th>\n",
              "      <th>Total Confirmed cases (Indian National)</th>\n",
              "      <th>Total Confirmed cases ( Foreign National )</th>\n",
              "      <th>Cured</th>\n",
              "      <th>Death</th>\n",
              "    </tr>\n",
              "  </thead>\n",
              "  <tbody>\n",
              "    <tr>\n",
              "      <th>0</th>\n",
              "      <td>1</td>\n",
              "      <td>Andhra Pradesh</td>\n",
              "      <td>9</td>\n",
              "      <td>0</td>\n",
              "      <td>0</td>\n",
              "      <td>0</td>\n",
              "    </tr>\n",
              "    <tr>\n",
              "      <th>1</th>\n",
              "      <td>2</td>\n",
              "      <td>Bihar</td>\n",
              "      <td>3</td>\n",
              "      <td>0</td>\n",
              "      <td>0</td>\n",
              "      <td>1</td>\n",
              "    </tr>\n",
              "    <tr>\n",
              "      <th>2</th>\n",
              "      <td>3</td>\n",
              "      <td>Chhattisgarh</td>\n",
              "      <td>1</td>\n",
              "      <td>0</td>\n",
              "      <td>0</td>\n",
              "      <td>0</td>\n",
              "    </tr>\n",
              "    <tr>\n",
              "      <th>3</th>\n",
              "      <td>4</td>\n",
              "      <td>Delhi</td>\n",
              "      <td>30</td>\n",
              "      <td>1</td>\n",
              "      <td>6</td>\n",
              "      <td>1</td>\n",
              "    </tr>\n",
              "    <tr>\n",
              "      <th>4</th>\n",
              "      <td>5</td>\n",
              "      <td>Gujarat</td>\n",
              "      <td>32</td>\n",
              "      <td>1</td>\n",
              "      <td>0</td>\n",
              "      <td>1</td>\n",
              "    </tr>\n",
              "  </tbody>\n",
              "</table>\n",
              "</div>"
            ],
            "text/plain": [
              "   S. No. Name of State / UT  Total Confirmed cases (Indian National)  \\\n",
              "0       1     Andhra Pradesh                                        9   \n",
              "1       2              Bihar                                        3   \n",
              "2       3       Chhattisgarh                                        1   \n",
              "3       4              Delhi                                       30   \n",
              "4       5            Gujarat                                       32   \n",
              "\n",
              "   Total Confirmed cases ( Foreign National )  Cured  Death  \n",
              "0                                           0      0      0  \n",
              "1                                           0      0      1  \n",
              "2                                           0      0      0  \n",
              "3                                           1      6      1  \n",
              "4                                           1      0      1  "
            ]
          },
          "execution_count": 100,
          "metadata": {},
          "output_type": "execute_result"
        }
      ]
    },
    {
      "cell_type": "raw",
      "metadata": {
        "id": "bc2f171b"
      },
      "source": [
        "1.importing dataset\n",
        "2.renaming(optional)\n",
        "3.active\n",
        "4.confirmed, recovered,death\n",
        "5.visualization"
      ],
      "id": "bc2f171b"
    },
    {
      "cell_type": "code",
      "metadata": {
        "id": "b89b0db4"
      },
      "source": [
        "df_india['total active']=df_india['Total Confirmed cases ( Foreign National )']+ df_india['Total Confirmed cases (Indian National)']"
      ],
      "id": "b89b0db4",
      "execution_count": null,
      "outputs": []
    },
    {
      "cell_type": "code",
      "metadata": {
        "id": "aa7012fc"
      },
      "source": [
        "df_india['active']=df_india['total active']-(df_india['Death']-df_india['Cured'])"
      ],
      "id": "aa7012fc",
      "execution_count": null,
      "outputs": []
    },
    {
      "cell_type": "code",
      "metadata": {
        "id": "a3e8660a"
      },
      "source": [
        "total_active=df_india['total active'].sum()"
      ],
      "id": "a3e8660a",
      "execution_count": null,
      "outputs": []
    },
    {
      "cell_type": "code",
      "metadata": {
        "id": "94b5bf3e"
      },
      "source": [
        "top_cases=df_india.groupby('Name of State / UT')['total active'].sum().sort_values(ascending=False).reset_index()"
      ],
      "id": "94b5bf3e",
      "execution_count": null,
      "outputs": []
    },
    {
      "cell_type": "code",
      "metadata": {
        "id": "6f290a8b",
        "outputId": "ff465150-13b1-4ef9-c396-0524584ff1b6"
      },
      "source": [
        "top_cases.style.background_gradient(cmap='hot_r')"
      ],
      "id": "6f290a8b",
      "execution_count": null,
      "outputs": [
        {
          "data": {
            "text/html": [
              "<style  type=\"text/css\" >\n",
              "#T_cebfd_row0_col1{\n",
              "            background-color:  #0b0000;\n",
              "            color:  #f1f1f1;\n",
              "        }#T_cebfd_row1_col1{\n",
              "            background-color:  #3a0000;\n",
              "            color:  #f1f1f1;\n",
              "        }#T_cebfd_row2_col1{\n",
              "            background-color:  #ffb200;\n",
              "            color:  #000000;\n",
              "        }#T_cebfd_row3_col1,#T_cebfd_row4_col1{\n",
              "            background-color:  #ffd700;\n",
              "            color:  #000000;\n",
              "        }#T_cebfd_row5_col1{\n",
              "            background-color:  #ffe400;\n",
              "            color:  #000000;\n",
              "        }#T_cebfd_row6_col1{\n",
              "            background-color:  #ffe900;\n",
              "            color:  #000000;\n",
              "        }#T_cebfd_row7_col1{\n",
              "            background-color:  #ffef00;\n",
              "            color:  #000000;\n",
              "        }#T_cebfd_row8_col1{\n",
              "            background-color:  #fffc00;\n",
              "            color:  #000000;\n",
              "        }#T_cebfd_row9_col1{\n",
              "            background-color:  #ffff03;\n",
              "            color:  #000000;\n",
              "        }#T_cebfd_row10_col1{\n",
              "            background-color:  #ffff61;\n",
              "            color:  #000000;\n",
              "        }#T_cebfd_row11_col1{\n",
              "            background-color:  #ffff91;\n",
              "            color:  #000000;\n",
              "        }#T_cebfd_row12_col1,#T_cebfd_row13_col1,#T_cebfd_row14_col1{\n",
              "            background-color:  #ffffb8;\n",
              "            color:  #000000;\n",
              "        }#T_cebfd_row15_col1,#T_cebfd_row16_col1{\n",
              "            background-color:  #ffffc8;\n",
              "            color:  #000000;\n",
              "        }#T_cebfd_row17_col1{\n",
              "            background-color:  #ffffe3;\n",
              "            color:  #000000;\n",
              "        }#T_cebfd_row18_col1,#T_cebfd_row19_col1{\n",
              "            background-color:  #ffffef;\n",
              "            color:  #000000;\n",
              "        }#T_cebfd_row20_col1{\n",
              "            background-color:  #fffff7;\n",
              "            color:  #000000;\n",
              "        }#T_cebfd_row21_col1,#T_cebfd_row22_col1,#T_cebfd_row23_col1,#T_cebfd_row24_col1{\n",
              "            background-color:  #ffffff;\n",
              "            color:  #000000;\n",
              "        }</style><table id=\"T_cebfd_\" ><thead>    <tr>        <th class=\"blank level0\" ></th>        <th class=\"col_heading level0 col0\" >Name of State / UT</th>        <th class=\"col_heading level0 col1\" >total active</th>    </tr></thead><tbody>\n",
              "                <tr>\n",
              "                        <th id=\"T_cebfd_level0_row0\" class=\"row_heading level0 row0\" >0</th>\n",
              "                        <td id=\"T_cebfd_row0_col0\" class=\"data row0 col0\" >Kerala</td>\n",
              "                        <td id=\"T_cebfd_row0_col1\" class=\"data row0 col1\" >109</td>\n",
              "            </tr>\n",
              "            <tr>\n",
              "                        <th id=\"T_cebfd_level0_row1\" class=\"row_heading level0 row1\" >1</th>\n",
              "                        <td id=\"T_cebfd_row1_col0\" class=\"data row1 col0\" >Maharashtra</td>\n",
              "                        <td id=\"T_cebfd_row1_col1\" class=\"data row1 col1\" >101</td>\n",
              "            </tr>\n",
              "            <tr>\n",
              "                        <th id=\"T_cebfd_level0_row2\" class=\"row_heading level0 row2\" >2</th>\n",
              "                        <td id=\"T_cebfd_row2_col0\" class=\"data row2 col0\" >Karnataka</td>\n",
              "                        <td id=\"T_cebfd_row2_col1\" class=\"data row2 col1\" >41</td>\n",
              "            </tr>\n",
              "            <tr>\n",
              "                        <th id=\"T_cebfd_level0_row3\" class=\"row_heading level0 row3\" >3</th>\n",
              "                        <td id=\"T_cebfd_row3_col0\" class=\"data row3 col0\" >Uttar Pradesh</td>\n",
              "                        <td id=\"T_cebfd_row3_col1\" class=\"data row3 col1\" >35</td>\n",
              "            </tr>\n",
              "            <tr>\n",
              "                        <th id=\"T_cebfd_level0_row4\" class=\"row_heading level0 row4\" >4</th>\n",
              "                        <td id=\"T_cebfd_row4_col0\" class=\"data row4 col0\" >Telengana</td>\n",
              "                        <td id=\"T_cebfd_row4_col1\" class=\"data row4 col1\" >35</td>\n",
              "            </tr>\n",
              "            <tr>\n",
              "                        <th id=\"T_cebfd_level0_row5\" class=\"row_heading level0 row5\" >5</th>\n",
              "                        <td id=\"T_cebfd_row5_col0\" class=\"data row5 col0\" >Gujarat</td>\n",
              "                        <td id=\"T_cebfd_row5_col1\" class=\"data row5 col1\" >33</td>\n",
              "            </tr>\n",
              "            <tr>\n",
              "                        <th id=\"T_cebfd_level0_row6\" class=\"row_heading level0 row6\" >6</th>\n",
              "                        <td id=\"T_cebfd_row6_col0\" class=\"data row6 col0\" >Rajasthan</td>\n",
              "                        <td id=\"T_cebfd_row6_col1\" class=\"data row6 col1\" >32</td>\n",
              "            </tr>\n",
              "            <tr>\n",
              "                        <th id=\"T_cebfd_level0_row7\" class=\"row_heading level0 row7\" >7</th>\n",
              "                        <td id=\"T_cebfd_row7_col0\" class=\"data row7 col0\" >Delhi</td>\n",
              "                        <td id=\"T_cebfd_row7_col1\" class=\"data row7 col1\" >31</td>\n",
              "            </tr>\n",
              "            <tr>\n",
              "                        <th id=\"T_cebfd_level0_row8\" class=\"row_heading level0 row8\" >8</th>\n",
              "                        <td id=\"T_cebfd_row8_col0\" class=\"data row8 col0\" >Punjab</td>\n",
              "                        <td id=\"T_cebfd_row8_col1\" class=\"data row8 col1\" >29</td>\n",
              "            </tr>\n",
              "            <tr>\n",
              "                        <th id=\"T_cebfd_level0_row9\" class=\"row_heading level0 row9\" >9</th>\n",
              "                        <td id=\"T_cebfd_row9_col0\" class=\"data row9 col0\" >Haryana</td>\n",
              "                        <td id=\"T_cebfd_row9_col1\" class=\"data row9 col1\" >28</td>\n",
              "            </tr>\n",
              "            <tr>\n",
              "                        <th id=\"T_cebfd_level0_row10\" class=\"row_heading level0 row10\" >10</th>\n",
              "                        <td id=\"T_cebfd_row10_col0\" class=\"data row10 col0\" >Tamil Nadu</td>\n",
              "                        <td id=\"T_cebfd_row10_col1\" class=\"data row10 col1\" >18</td>\n",
              "            </tr>\n",
              "            <tr>\n",
              "                        <th id=\"T_cebfd_level0_row11\" class=\"row_heading level0 row11\" >11</th>\n",
              "                        <td id=\"T_cebfd_row11_col0\" class=\"data row11 col0\" >Ladakh</td>\n",
              "                        <td id=\"T_cebfd_row11_col1\" class=\"data row11 col1\" >13</td>\n",
              "            </tr>\n",
              "            <tr>\n",
              "                        <th id=\"T_cebfd_level0_row12\" class=\"row_heading level0 row12\" >12</th>\n",
              "                        <td id=\"T_cebfd_row12_col0\" class=\"data row12 col0\" >Andhra Pradesh</td>\n",
              "                        <td id=\"T_cebfd_row12_col1\" class=\"data row12 col1\" >9</td>\n",
              "            </tr>\n",
              "            <tr>\n",
              "                        <th id=\"T_cebfd_level0_row13\" class=\"row_heading level0 row13\" >13</th>\n",
              "                        <td id=\"T_cebfd_row13_col0\" class=\"data row13 col0\" >Madhya Pradesh</td>\n",
              "                        <td id=\"T_cebfd_row13_col1\" class=\"data row13 col1\" >9</td>\n",
              "            </tr>\n",
              "            <tr>\n",
              "                        <th id=\"T_cebfd_level0_row14\" class=\"row_heading level0 row14\" >14</th>\n",
              "                        <td id=\"T_cebfd_row14_col0\" class=\"data row14 col0\" >West Bengal</td>\n",
              "                        <td id=\"T_cebfd_row14_col1\" class=\"data row14 col1\" >9</td>\n",
              "            </tr>\n",
              "            <tr>\n",
              "                        <th id=\"T_cebfd_level0_row15\" class=\"row_heading level0 row15\" >15</th>\n",
              "                        <td id=\"T_cebfd_row15_col0\" class=\"data row15 col0\" >Jammu and Kashmir</td>\n",
              "                        <td id=\"T_cebfd_row15_col1\" class=\"data row15 col1\" >7</td>\n",
              "            </tr>\n",
              "            <tr>\n",
              "                        <th id=\"T_cebfd_level0_row16\" class=\"row_heading level0 row16\" >16</th>\n",
              "                        <td id=\"T_cebfd_row16_col0\" class=\"data row16 col0\" >Chandigarh</td>\n",
              "                        <td id=\"T_cebfd_row16_col1\" class=\"data row16 col1\" >7</td>\n",
              "            </tr>\n",
              "            <tr>\n",
              "                        <th id=\"T_cebfd_level0_row17\" class=\"row_heading level0 row17\" >17</th>\n",
              "                        <td id=\"T_cebfd_row17_col0\" class=\"data row17 col0\" >Uttarakhand</td>\n",
              "                        <td id=\"T_cebfd_row17_col1\" class=\"data row17 col1\" >4</td>\n",
              "            </tr>\n",
              "            <tr>\n",
              "                        <th id=\"T_cebfd_level0_row18\" class=\"row_heading level0 row18\" >18</th>\n",
              "                        <td id=\"T_cebfd_row18_col0\" class=\"data row18 col0\" >Bihar</td>\n",
              "                        <td id=\"T_cebfd_row18_col1\" class=\"data row18 col1\" >3</td>\n",
              "            </tr>\n",
              "            <tr>\n",
              "                        <th id=\"T_cebfd_level0_row19\" class=\"row_heading level0 row19\" >19</th>\n",
              "                        <td id=\"T_cebfd_row19_col0\" class=\"data row19 col0\" >Himachal Pradesh</td>\n",
              "                        <td id=\"T_cebfd_row19_col1\" class=\"data row19 col1\" >3</td>\n",
              "            </tr>\n",
              "            <tr>\n",
              "                        <th id=\"T_cebfd_level0_row20\" class=\"row_heading level0 row20\" >20</th>\n",
              "                        <td id=\"T_cebfd_row20_col0\" class=\"data row20 col0\" >Odisha</td>\n",
              "                        <td id=\"T_cebfd_row20_col1\" class=\"data row20 col1\" >2</td>\n",
              "            </tr>\n",
              "            <tr>\n",
              "                        <th id=\"T_cebfd_level0_row21\" class=\"row_heading level0 row21\" >21</th>\n",
              "                        <td id=\"T_cebfd_row21_col0\" class=\"data row21 col0\" >Manipur</td>\n",
              "                        <td id=\"T_cebfd_row21_col1\" class=\"data row21 col1\" >1</td>\n",
              "            </tr>\n",
              "            <tr>\n",
              "                        <th id=\"T_cebfd_level0_row22\" class=\"row_heading level0 row22\" >22</th>\n",
              "                        <td id=\"T_cebfd_row22_col0\" class=\"data row22 col0\" >Mizoram</td>\n",
              "                        <td id=\"T_cebfd_row22_col1\" class=\"data row22 col1\" >1</td>\n",
              "            </tr>\n",
              "            <tr>\n",
              "                        <th id=\"T_cebfd_level0_row23\" class=\"row_heading level0 row23\" >23</th>\n",
              "                        <td id=\"T_cebfd_row23_col0\" class=\"data row23 col0\" >Puducherry</td>\n",
              "                        <td id=\"T_cebfd_row23_col1\" class=\"data row23 col1\" >1</td>\n",
              "            </tr>\n",
              "            <tr>\n",
              "                        <th id=\"T_cebfd_level0_row24\" class=\"row_heading level0 row24\" >24</th>\n",
              "                        <td id=\"T_cebfd_row24_col0\" class=\"data row24 col0\" >Chhattisgarh</td>\n",
              "                        <td id=\"T_cebfd_row24_col1\" class=\"data row24 col1\" >1</td>\n",
              "            </tr>\n",
              "    </tbody></table>"
            ],
            "text/plain": [
              "<pandas.io.formats.style.Styler at 0x18b1c710820>"
            ]
          },
          "execution_count": 119,
          "metadata": {},
          "output_type": "execute_result"
        }
      ]
    },
    {
      "cell_type": "code",
      "metadata": {
        "id": "1855cba7"
      },
      "source": [],
      "id": "1855cba7",
      "execution_count": null,
      "outputs": []
    },
    {
      "cell_type": "code",
      "metadata": {
        "id": "68602b92"
      },
      "source": [],
      "id": "68602b92",
      "execution_count": null,
      "outputs": []
    }
  ]
}